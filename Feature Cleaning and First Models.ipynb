{
 "cells": [
  {
   "cell_type": "code",
   "execution_count": 1,
   "metadata": {},
   "outputs": [],
   "source": [
    "import pandas as pd\n",
    "import numpy as np\n",
    "import matplotlib.pyplot as plt\n",
    "import seaborn as sns\n",
    "from sklearn.metrics import confusion_matrix\n",
    "\n",
    "from sklearn.model_selection import train_test_split\n",
    "from sklearn.preprocessing import StandardScaler, MinMaxScaler, OneHotEncoder\n",
    "\n",
    "from xgboost import XGBClassifier\n",
    "from sklearn.svm import SVC\n",
    "from sklearn.naive_bayes import GaussianNB, CategoricalNB\n",
    "from sklearn.linear_model import LogisticRegression\n",
    "from sklearn.neighbors import KNeighborsClassifier\n",
    "from sklearn.tree import DecisionTreeClassifier\n",
    "from sklearn.ensemble import RandomForestClassifier"
   ]
  },
  {
   "cell_type": "code",
   "execution_count": 2,
   "metadata": {},
   "outputs": [],
   "source": [
    "df = pd.read_csv('features.csv')"
   ]
  },
  {
   "cell_type": "code",
   "execution_count": 3,
   "metadata": {},
   "outputs": [
    {
     "data": {
      "text/html": [
       "<div>\n",
       "<style scoped>\n",
       "    .dataframe tbody tr th:only-of-type {\n",
       "        vertical-align: middle;\n",
       "    }\n",
       "\n",
       "    .dataframe tbody tr th {\n",
       "        vertical-align: top;\n",
       "    }\n",
       "\n",
       "    .dataframe thead th {\n",
       "        text-align: right;\n",
       "    }\n",
       "</style>\n",
       "<table border=\"1\" class=\"dataframe\">\n",
       "  <thead>\n",
       "    <tr style=\"text-align: right;\">\n",
       "      <th></th>\n",
       "      <th>Amp_range</th>\n",
       "      <th>Avg_amp</th>\n",
       "      <th>Freq_range</th>\n",
       "      <th>Pulses_per_Sec</th>\n",
       "      <th>Partials</th>\n",
       "      <th>MFCC</th>\n",
       "      <th>Duration</th>\n",
       "      <th>Zero_Crossings</th>\n",
       "      <th>Sex</th>\n",
       "      <th>Age</th>\n",
       "      <th>Species</th>\n",
       "      <th>Call</th>\n",
       "    </tr>\n",
       "  </thead>\n",
       "  <tbody>\n",
       "    <tr>\n",
       "      <th>0</th>\n",
       "      <td>0.083313</td>\n",
       "      <td>0.015951</td>\n",
       "      <td>848.0</td>\n",
       "      <td>263.00</td>\n",
       "      <td>2</td>\n",
       "      <td>-10.254556</td>\n",
       "      <td>1</td>\n",
       "      <td>706</td>\n",
       "      <td>NaN</td>\n",
       "      <td>A</td>\n",
       "      <td>A. jubatus</td>\n",
       "      <td>growl</td>\n",
       "    </tr>\n",
       "    <tr>\n",
       "      <th>1</th>\n",
       "      <td>0.296424</td>\n",
       "      <td>0.035485</td>\n",
       "      <td>3645.5</td>\n",
       "      <td>452.25</td>\n",
       "      <td>21</td>\n",
       "      <td>-10.254556</td>\n",
       "      <td>4</td>\n",
       "      <td>3456</td>\n",
       "      <td>NaN</td>\n",
       "      <td>A</td>\n",
       "      <td>A. jubatus</td>\n",
       "      <td>NaN</td>\n",
       "    </tr>\n",
       "    <tr>\n",
       "      <th>2</th>\n",
       "      <td>0.171860</td>\n",
       "      <td>0.022913</td>\n",
       "      <td>2181.8</td>\n",
       "      <td>308.00</td>\n",
       "      <td>8</td>\n",
       "      <td>-10.254556</td>\n",
       "      <td>5</td>\n",
       "      <td>2984</td>\n",
       "      <td>NaN</td>\n",
       "      <td>A</td>\n",
       "      <td>A. jubatus</td>\n",
       "      <td>growl</td>\n",
       "    </tr>\n",
       "    <tr>\n",
       "      <th>3</th>\n",
       "      <td>0.243933</td>\n",
       "      <td>0.023587</td>\n",
       "      <td>3437.0</td>\n",
       "      <td>314.00</td>\n",
       "      <td>11</td>\n",
       "      <td>-10.254556</td>\n",
       "      <td>5</td>\n",
       "      <td>3108</td>\n",
       "      <td>NaN</td>\n",
       "      <td>A</td>\n",
       "      <td>A. jubatus</td>\n",
       "      <td>NaN</td>\n",
       "    </tr>\n",
       "    <tr>\n",
       "      <th>4</th>\n",
       "      <td>0.194653</td>\n",
       "      <td>0.029304</td>\n",
       "      <td>2189.0</td>\n",
       "      <td>331.00</td>\n",
       "      <td>5</td>\n",
       "      <td>-10.254556</td>\n",
       "      <td>3</td>\n",
       "      <td>1919</td>\n",
       "      <td>NaN</td>\n",
       "      <td>A</td>\n",
       "      <td>A. jubatus</td>\n",
       "      <td>growl</td>\n",
       "    </tr>\n",
       "  </tbody>\n",
       "</table>\n",
       "</div>"
      ],
      "text/plain": [
       "   Amp_range   Avg_amp  Freq_range  Pulses_per_Sec  Partials       MFCC  \\\n",
       "0   0.083313  0.015951       848.0          263.00         2 -10.254556   \n",
       "1   0.296424  0.035485      3645.5          452.25        21 -10.254556   \n",
       "2   0.171860  0.022913      2181.8          308.00         8 -10.254556   \n",
       "3   0.243933  0.023587      3437.0          314.00        11 -10.254556   \n",
       "4   0.194653  0.029304      2189.0          331.00         5 -10.254556   \n",
       "\n",
       "   Duration  Zero_Crossings  Sex Age     Species   Call  \n",
       "0         1             706  NaN   A  A. jubatus  growl  \n",
       "1         4            3456  NaN   A  A. jubatus    NaN  \n",
       "2         5            2984  NaN   A  A. jubatus  growl  \n",
       "3         5            3108  NaN   A  A. jubatus    NaN  \n",
       "4         3            1919  NaN   A  A. jubatus  growl  "
      ]
     },
     "execution_count": 3,
     "metadata": {},
     "output_type": "execute_result"
    }
   ],
   "source": [
    "df.head()"
   ]
  },
  {
   "cell_type": "code",
   "execution_count": 4,
   "metadata": {},
   "outputs": [
    {
     "name": "stdout",
     "output_type": "stream",
     "text": [
      "<class 'pandas.core.frame.DataFrame'>\n",
      "RangeIndex: 463 entries, 0 to 462\n",
      "Data columns (total 12 columns):\n",
      " #   Column          Non-Null Count  Dtype  \n",
      "---  ------          --------------  -----  \n",
      " 0   Amp_range       463 non-null    float64\n",
      " 1   Avg_amp         463 non-null    float64\n",
      " 2   Freq_range      463 non-null    float64\n",
      " 3   Pulses_per_Sec  463 non-null    float64\n",
      " 4   Partials        463 non-null    int64  \n",
      " 5   MFCC            463 non-null    float64\n",
      " 6   Duration        463 non-null    int64  \n",
      " 7   Zero_Crossings  463 non-null    int64  \n",
      " 8   Sex             342 non-null    object \n",
      " 9   Age             375 non-null    object \n",
      " 10  Species         463 non-null    object \n",
      " 11  Call            450 non-null    object \n",
      "dtypes: float64(5), int64(3), object(4)\n",
      "memory usage: 43.5+ KB\n"
     ]
    }
   ],
   "source": [
    "df.info()"
   ]
  },
  {
   "cell_type": "code",
   "execution_count": 5,
   "metadata": {},
   "outputs": [
    {
     "data": {
      "text/html": [
       "<div>\n",
       "<style scoped>\n",
       "    .dataframe tbody tr th:only-of-type {\n",
       "        vertical-align: middle;\n",
       "    }\n",
       "\n",
       "    .dataframe tbody tr th {\n",
       "        vertical-align: top;\n",
       "    }\n",
       "\n",
       "    .dataframe thead th {\n",
       "        text-align: right;\n",
       "    }\n",
       "</style>\n",
       "<table border=\"1\" class=\"dataframe\">\n",
       "  <thead>\n",
       "    <tr style=\"text-align: right;\">\n",
       "      <th></th>\n",
       "      <th>Amp_range</th>\n",
       "      <th>Avg_amp</th>\n",
       "      <th>Freq_range</th>\n",
       "      <th>Pulses_per_Sec</th>\n",
       "      <th>Partials</th>\n",
       "      <th>MFCC</th>\n",
       "      <th>Duration</th>\n",
       "      <th>Zero_Crossings</th>\n",
       "      <th>Sex</th>\n",
       "      <th>Age</th>\n",
       "      <th>Species</th>\n",
       "      <th>Call</th>\n",
       "    </tr>\n",
       "  </thead>\n",
       "  <tbody>\n",
       "    <tr>\n",
       "      <th>count</th>\n",
       "      <td>463.000000</td>\n",
       "      <td>463.000000</td>\n",
       "      <td>463.000000</td>\n",
       "      <td>463.000000</td>\n",
       "      <td>463.000000</td>\n",
       "      <td>463.000000</td>\n",
       "      <td>463.000000</td>\n",
       "      <td>463.000000</td>\n",
       "      <td>342</td>\n",
       "      <td>375</td>\n",
       "      <td>463</td>\n",
       "      <td>450</td>\n",
       "    </tr>\n",
       "    <tr>\n",
       "      <th>unique</th>\n",
       "      <td>NaN</td>\n",
       "      <td>NaN</td>\n",
       "      <td>NaN</td>\n",
       "      <td>NaN</td>\n",
       "      <td>NaN</td>\n",
       "      <td>NaN</td>\n",
       "      <td>NaN</td>\n",
       "      <td>NaN</td>\n",
       "      <td>11</td>\n",
       "      <td>6</td>\n",
       "      <td>9</td>\n",
       "      <td>28</td>\n",
       "    </tr>\n",
       "    <tr>\n",
       "      <th>top</th>\n",
       "      <td>NaN</td>\n",
       "      <td>NaN</td>\n",
       "      <td>NaN</td>\n",
       "      <td>NaN</td>\n",
       "      <td>NaN</td>\n",
       "      <td>NaN</td>\n",
       "      <td>NaN</td>\n",
       "      <td>NaN</td>\n",
       "      <td>Male</td>\n",
       "      <td>Adult</td>\n",
       "      <td>Ocelot</td>\n",
       "      <td>growl</td>\n",
       "    </tr>\n",
       "    <tr>\n",
       "      <th>freq</th>\n",
       "      <td>NaN</td>\n",
       "      <td>NaN</td>\n",
       "      <td>NaN</td>\n",
       "      <td>NaN</td>\n",
       "      <td>NaN</td>\n",
       "      <td>NaN</td>\n",
       "      <td>NaN</td>\n",
       "      <td>NaN</td>\n",
       "      <td>187</td>\n",
       "      <td>262</td>\n",
       "      <td>113</td>\n",
       "      <td>208</td>\n",
       "    </tr>\n",
       "    <tr>\n",
       "      <th>mean</th>\n",
       "      <td>0.172086</td>\n",
       "      <td>0.019025</td>\n",
       "      <td>4463.574141</td>\n",
       "      <td>650.632934</td>\n",
       "      <td>7.734341</td>\n",
       "      <td>-16.697629</td>\n",
       "      <td>4.198704</td>\n",
       "      <td>7744.779698</td>\n",
       "      <td>NaN</td>\n",
       "      <td>NaN</td>\n",
       "      <td>NaN</td>\n",
       "      <td>NaN</td>\n",
       "    </tr>\n",
       "    <tr>\n",
       "      <th>std</th>\n",
       "      <td>0.150026</td>\n",
       "      <td>0.017871</td>\n",
       "      <td>3070.408521</td>\n",
       "      <td>668.599927</td>\n",
       "      <td>10.174912</td>\n",
       "      <td>8.567397</td>\n",
       "      <td>3.644874</td>\n",
       "      <td>9319.442262</td>\n",
       "      <td>NaN</td>\n",
       "      <td>NaN</td>\n",
       "      <td>NaN</td>\n",
       "      <td>NaN</td>\n",
       "    </tr>\n",
       "    <tr>\n",
       "      <th>min</th>\n",
       "      <td>0.003207</td>\n",
       "      <td>0.000551</td>\n",
       "      <td>1.000000</td>\n",
       "      <td>0.000000</td>\n",
       "      <td>0.000000</td>\n",
       "      <td>-29.455383</td>\n",
       "      <td>1.000000</td>\n",
       "      <td>281.000000</td>\n",
       "      <td>NaN</td>\n",
       "      <td>NaN</td>\n",
       "      <td>NaN</td>\n",
       "      <td>NaN</td>\n",
       "    </tr>\n",
       "    <tr>\n",
       "      <th>25%</th>\n",
       "      <td>0.056398</td>\n",
       "      <td>0.005321</td>\n",
       "      <td>2199.375000</td>\n",
       "      <td>230.166667</td>\n",
       "      <td>1.000000</td>\n",
       "      <td>-25.048552</td>\n",
       "      <td>2.000000</td>\n",
       "      <td>2502.500000</td>\n",
       "      <td>NaN</td>\n",
       "      <td>NaN</td>\n",
       "      <td>NaN</td>\n",
       "      <td>NaN</td>\n",
       "    </tr>\n",
       "    <tr>\n",
       "      <th>50%</th>\n",
       "      <td>0.141724</td>\n",
       "      <td>0.013124</td>\n",
       "      <td>3777.000000</td>\n",
       "      <td>410.400000</td>\n",
       "      <td>4.000000</td>\n",
       "      <td>-17.067156</td>\n",
       "      <td>3.000000</td>\n",
       "      <td>4550.000000</td>\n",
       "      <td>NaN</td>\n",
       "      <td>NaN</td>\n",
       "      <td>NaN</td>\n",
       "      <td>NaN</td>\n",
       "    </tr>\n",
       "    <tr>\n",
       "      <th>75%</th>\n",
       "      <td>0.239012</td>\n",
       "      <td>0.027823</td>\n",
       "      <td>6807.460317</td>\n",
       "      <td>774.500000</td>\n",
       "      <td>12.000000</td>\n",
       "      <td>-8.300884</td>\n",
       "      <td>5.000000</td>\n",
       "      <td>9680.000000</td>\n",
       "      <td>NaN</td>\n",
       "      <td>NaN</td>\n",
       "      <td>NaN</td>\n",
       "      <td>NaN</td>\n",
       "    </tr>\n",
       "    <tr>\n",
       "      <th>max</th>\n",
       "      <td>0.980719</td>\n",
       "      <td>0.098279</td>\n",
       "      <td>10669.600000</td>\n",
       "      <td>3683.500000</td>\n",
       "      <td>86.000000</td>\n",
       "      <td>-3.730616</td>\n",
       "      <td>28.000000</td>\n",
       "      <td>73062.000000</td>\n",
       "      <td>NaN</td>\n",
       "      <td>NaN</td>\n",
       "      <td>NaN</td>\n",
       "      <td>NaN</td>\n",
       "    </tr>\n",
       "  </tbody>\n",
       "</table>\n",
       "</div>"
      ],
      "text/plain": [
       "         Amp_range     Avg_amp    Freq_range  Pulses_per_Sec    Partials  \\\n",
       "count   463.000000  463.000000    463.000000      463.000000  463.000000   \n",
       "unique         NaN         NaN           NaN             NaN         NaN   \n",
       "top            NaN         NaN           NaN             NaN         NaN   \n",
       "freq           NaN         NaN           NaN             NaN         NaN   \n",
       "mean      0.172086    0.019025   4463.574141      650.632934    7.734341   \n",
       "std       0.150026    0.017871   3070.408521      668.599927   10.174912   \n",
       "min       0.003207    0.000551      1.000000        0.000000    0.000000   \n",
       "25%       0.056398    0.005321   2199.375000      230.166667    1.000000   \n",
       "50%       0.141724    0.013124   3777.000000      410.400000    4.000000   \n",
       "75%       0.239012    0.027823   6807.460317      774.500000   12.000000   \n",
       "max       0.980719    0.098279  10669.600000     3683.500000   86.000000   \n",
       "\n",
       "              MFCC    Duration  Zero_Crossings   Sex    Age Species   Call  \n",
       "count   463.000000  463.000000      463.000000   342    375     463    450  \n",
       "unique         NaN         NaN             NaN    11      6       9     28  \n",
       "top            NaN         NaN             NaN  Male  Adult  Ocelot  growl  \n",
       "freq           NaN         NaN             NaN   187    262     113    208  \n",
       "mean    -16.697629    4.198704     7744.779698   NaN    NaN     NaN    NaN  \n",
       "std       8.567397    3.644874     9319.442262   NaN    NaN     NaN    NaN  \n",
       "min     -29.455383    1.000000      281.000000   NaN    NaN     NaN    NaN  \n",
       "25%     -25.048552    2.000000     2502.500000   NaN    NaN     NaN    NaN  \n",
       "50%     -17.067156    3.000000     4550.000000   NaN    NaN     NaN    NaN  \n",
       "75%      -8.300884    5.000000     9680.000000   NaN    NaN     NaN    NaN  \n",
       "max      -3.730616   28.000000    73062.000000   NaN    NaN     NaN    NaN  "
      ]
     },
     "execution_count": 5,
     "metadata": {},
     "output_type": "execute_result"
    }
   ],
   "source": [
    "df.describe(include='all')"
   ]
  },
  {
   "cell_type": "markdown",
   "metadata": {},
   "source": [
    "## Data Cleaning"
   ]
  },
  {
   "cell_type": "code",
   "execution_count": 6,
   "metadata": {},
   "outputs": [
    {
     "data": {
      "text/plain": [
       "growl                          208\n",
       "hiss                            54\n",
       "main call                       46\n",
       "call                            21\n",
       "growl?                          21\n",
       "call?                           18\n",
       "single call?                    14\n",
       "purr                             7\n",
       "mew?                             7\n",
       "unknown                          6\n",
       "roar                             5\n",
       "call sequence                    4\n",
       "roar?                            4\n",
       "purr sequence                    4\n",
       "call/growl                       4\n",
       "growl/hiss                       4\n",
       "Hiss                             4\n",
       "Growl                            3\n",
       "hiss                             3\n",
       "mew                              2\n",
       "call sequence?                   2\n",
       "roar or call                     2\n",
       "grow/hiss                        2\n",
       "Call sequence(possible mew)      1\n",
       "Sharp Hiss                       1\n",
       "Loud rumble/roar                 1\n",
       "hiss?                            1\n",
       "growl                            1\n",
       "Name: Call, dtype: int64"
      ]
     },
     "execution_count": 6,
     "metadata": {},
     "output_type": "execute_result"
    }
   ],
   "source": [
    "df['Call'].value_counts()"
   ]
  },
  {
   "cell_type": "code",
   "execution_count": 7,
   "metadata": {},
   "outputs": [
    {
     "data": {
      "text/plain": [
       "array(['growl', nan, 'hiss', 'call', 'purr', 'roar', 'call/growl', 'mew',\n",
       "       'growl/hiss'], dtype=object)"
      ]
     },
     "execution_count": 7,
     "metadata": {},
     "output_type": "execute_result"
    }
   ],
   "source": [
    "clean = {'unknown':np.NaN, 'growl?': 'growl','Growl':'growl', 'growl ':'growl', 'hiss?':'hiss', 'Hiss':'hiss', \n",
    "         'Sharp Hiss':'hiss', 'purr sequence': 'purr', 'Loud rumble/roar':'roar', 'call?':'call', 'main call':'call', \n",
    "         'call sequence':'call', 'roar or call':'roar', 'roar?':'roar', 'purr sequence':'purr', ' roar':'roar', 'hiss ':'hiss', \n",
    "         'mew?':'mew', 'Call sequence(possible mew)':'call', 'call sequence?':'call', 'single call?':'call', \n",
    "         'grow/hiss':'growl/hiss','growl/hiss':'hiss'}\n",
    "df.replace(clean, inplace = True)\n",
    "df['Call'].unique()"
   ]
  },
  {
   "cell_type": "code",
   "execution_count": 8,
   "metadata": {},
   "outputs": [
    {
     "data": {
      "text/plain": [
       "array(['A', 'Adult', 'Adult ', 'Juvenile ', 'juvenile', nan, 'Juvenile'],\n",
       "      dtype=object)"
      ]
     },
     "execution_count": 8,
     "metadata": {},
     "output_type": "execute_result"
    }
   ],
   "source": [
    "df['Age'].unique()"
   ]
  },
  {
   "cell_type": "code",
   "execution_count": 9,
   "metadata": {},
   "outputs": [
    {
     "data": {
      "text/plain": [
       "array(['Adult', 'Juvenile', 'Unknown'], dtype=object)"
      ]
     },
     "execution_count": 9,
     "metadata": {},
     "output_type": "execute_result"
    }
   ],
   "source": [
    "clean2 = {'A':'Adult','Adult ':'Adult', 'Juvenile ':'Juvenile', 'juvenile':'Juvenile'}\n",
    "\n",
    "df.replace(clean2, inplace = True)\n",
    "df['Age'].fillna('Unknown', inplace = True)\n",
    "df['Age'].unique()"
   ]
  },
  {
   "cell_type": "code",
   "execution_count": 10,
   "metadata": {},
   "outputs": [
    {
     "data": {
      "text/plain": [
       "array([nan, 'G (1 M and 2F)', 'P', 'F', 'Pair (Unknown)', 'Female ',\n",
       "       'Male', 'male ', 'G', 'Female', 'M', 'Unknown'], dtype=object)"
      ]
     },
     "execution_count": 10,
     "metadata": {},
     "output_type": "execute_result"
    }
   ],
   "source": [
    "df['Sex'].unique()"
   ]
  },
  {
   "cell_type": "code",
   "execution_count": 11,
   "metadata": {},
   "outputs": [
    {
     "data": {
      "text/plain": [
       "array(['Unknown', 'Group', 'Pair', 'Female', 'Male'], dtype=object)"
      ]
     },
     "execution_count": 11,
     "metadata": {},
     "output_type": "execute_result"
    }
   ],
   "source": [
    "clean3 = {'Female ':'Female','F':'Female', 'M':'Male','male ':'Male', 'P':'Pair', 'Pair (Unknown)':'Pair', 'G':'Group', 'G (1 M and 2F)':'Group'}\n",
    "\n",
    "df.replace(clean3, inplace = True)\n",
    "df['Sex'].fillna('Unknown', inplace = True)\n",
    "df['Sex'].unique()"
   ]
  },
  {
   "cell_type": "code",
   "execution_count": 12,
   "metadata": {},
   "outputs": [
    {
     "data": {
      "text/html": [
       "<div>\n",
       "<style scoped>\n",
       "    .dataframe tbody tr th:only-of-type {\n",
       "        vertical-align: middle;\n",
       "    }\n",
       "\n",
       "    .dataframe tbody tr th {\n",
       "        vertical-align: top;\n",
       "    }\n",
       "\n",
       "    .dataframe thead th {\n",
       "        text-align: right;\n",
       "    }\n",
       "</style>\n",
       "<table border=\"1\" class=\"dataframe\">\n",
       "  <thead>\n",
       "    <tr style=\"text-align: right;\">\n",
       "      <th></th>\n",
       "      <th>count</th>\n",
       "      <th>unique</th>\n",
       "      <th>top</th>\n",
       "      <th>freq</th>\n",
       "    </tr>\n",
       "  </thead>\n",
       "  <tbody>\n",
       "    <tr>\n",
       "      <th>Sex</th>\n",
       "      <td>463</td>\n",
       "      <td>5</td>\n",
       "      <td>Male</td>\n",
       "      <td>201</td>\n",
       "    </tr>\n",
       "    <tr>\n",
       "      <th>Age</th>\n",
       "      <td>463</td>\n",
       "      <td>3</td>\n",
       "      <td>Adult</td>\n",
       "      <td>350</td>\n",
       "    </tr>\n",
       "    <tr>\n",
       "      <th>Species</th>\n",
       "      <td>463</td>\n",
       "      <td>9</td>\n",
       "      <td>Ocelot</td>\n",
       "      <td>113</td>\n",
       "    </tr>\n",
       "    <tr>\n",
       "      <th>Call</th>\n",
       "      <td>444</td>\n",
       "      <td>8</td>\n",
       "      <td>growl</td>\n",
       "      <td>233</td>\n",
       "    </tr>\n",
       "  </tbody>\n",
       "</table>\n",
       "</div>"
      ],
      "text/plain": [
       "        count unique     top freq\n",
       "Sex       463      5    Male  201\n",
       "Age       463      3   Adult  350\n",
       "Species   463      9  Ocelot  113\n",
       "Call      444      8   growl  233"
      ]
     },
     "execution_count": 12,
     "metadata": {},
     "output_type": "execute_result"
    }
   ],
   "source": [
    "df.describe(include='object').T"
   ]
  },
  {
   "cell_type": "code",
   "execution_count": 13,
   "metadata": {},
   "outputs": [],
   "source": [
    "#Save new clean data to new CSV\n",
    "df.to_csv('features_cleaned.csv', index=False)"
   ]
  },
  {
   "cell_type": "markdown",
   "metadata": {},
   "source": [
    "## EDA"
   ]
  },
  {
   "cell_type": "markdown",
   "metadata": {},
   "source": [
    "## Standardize Continuous Features"
   ]
  },
  {
   "cell_type": "code",
   "execution_count": 14,
   "metadata": {},
   "outputs": [],
   "source": [
    "continuous = ['Amp_range','Avg_amp','Freq_range', 'Pulses_per_Sec','Partials','MFCC', 'Duration', 'Zero_Crossings']\n",
    "\n",
    "scaler = StandardScaler()\n",
    "\n",
    "for var in continuous:\n",
    "    df[var] = df[var].astype('float64')\n",
    "    df[var] = scaler.fit_transform(df[var].values.reshape(-1, 1))"
   ]
  },
  {
   "cell_type": "code",
   "execution_count": 15,
   "metadata": {},
   "outputs": [
    {
     "data": {
      "text/html": [
       "<div>\n",
       "<style scoped>\n",
       "    .dataframe tbody tr th:only-of-type {\n",
       "        vertical-align: middle;\n",
       "    }\n",
       "\n",
       "    .dataframe tbody tr th {\n",
       "        vertical-align: top;\n",
       "    }\n",
       "\n",
       "    .dataframe thead th {\n",
       "        text-align: right;\n",
       "    }\n",
       "</style>\n",
       "<table border=\"1\" class=\"dataframe\">\n",
       "  <thead>\n",
       "    <tr style=\"text-align: right;\">\n",
       "      <th></th>\n",
       "      <th>Amp_range</th>\n",
       "      <th>Avg_amp</th>\n",
       "      <th>Freq_range</th>\n",
       "      <th>Pulses_per_Sec</th>\n",
       "      <th>Partials</th>\n",
       "      <th>MFCC</th>\n",
       "      <th>Duration</th>\n",
       "      <th>Zero_Crossings</th>\n",
       "    </tr>\n",
       "  </thead>\n",
       "  <tbody>\n",
       "    <tr>\n",
       "      <th>count</th>\n",
       "      <td>4.630000e+02</td>\n",
       "      <td>4.630000e+02</td>\n",
       "      <td>4.630000e+02</td>\n",
       "      <td>4.630000e+02</td>\n",
       "      <td>4.630000e+02</td>\n",
       "      <td>4.630000e+02</td>\n",
       "      <td>4.630000e+02</td>\n",
       "      <td>4.630000e+02</td>\n",
       "    </tr>\n",
       "    <tr>\n",
       "      <th>mean</th>\n",
       "      <td>-2.234833e-16</td>\n",
       "      <td>-2.613700e-17</td>\n",
       "      <td>1.376389e-16</td>\n",
       "      <td>9.831349e-18</td>\n",
       "      <td>-5.730957e-17</td>\n",
       "      <td>9.476461e-16</td>\n",
       "      <td>-7.307569e-17</td>\n",
       "      <td>1.918312e-17</td>\n",
       "    </tr>\n",
       "    <tr>\n",
       "      <th>std</th>\n",
       "      <td>1.001082e+00</td>\n",
       "      <td>1.001082e+00</td>\n",
       "      <td>1.001082e+00</td>\n",
       "      <td>1.001082e+00</td>\n",
       "      <td>1.001082e+00</td>\n",
       "      <td>1.001082e+00</td>\n",
       "      <td>1.001082e+00</td>\n",
       "      <td>1.001082e+00</td>\n",
       "    </tr>\n",
       "    <tr>\n",
       "      <th>min</th>\n",
       "      <td>-1.126886e+00</td>\n",
       "      <td>-1.034848e+00</td>\n",
       "      <td>-1.454986e+00</td>\n",
       "      <td>-9.741800e-01</td>\n",
       "      <td>-7.609606e-01</td>\n",
       "      <td>-1.490716e+00</td>\n",
       "      <td>-8.785390e-01</td>\n",
       "      <td>-8.017489e-01</td>\n",
       "    </tr>\n",
       "    <tr>\n",
       "      <th>25%</th>\n",
       "      <td>-7.719542e-01</td>\n",
       "      <td>-7.676598e-01</td>\n",
       "      <td>-7.382237e-01</td>\n",
       "      <td>-6.295560e-01</td>\n",
       "      <td>-6.625733e-01</td>\n",
       "      <td>-9.757872e-01</td>\n",
       "      <td>-6.038843e-01</td>\n",
       "      <td>-5.631185e-01</td>\n",
       "    </tr>\n",
       "    <tr>\n",
       "      <th>50%</th>\n",
       "      <td>-2.025991e-01</td>\n",
       "      <td>-3.305475e-01</td>\n",
       "      <td>-2.238519e-01</td>\n",
       "      <td>-3.596961e-01</td>\n",
       "      <td>-3.674116e-01</td>\n",
       "      <td>-4.317841e-02</td>\n",
       "      <td>-3.292297e-01</td>\n",
       "      <td>-3.431788e-01</td>\n",
       "    </tr>\n",
       "    <tr>\n",
       "      <th>75%</th>\n",
       "      <td>4.465791e-01</td>\n",
       "      <td>4.928449e-01</td>\n",
       "      <td>7.642050e-01</td>\n",
       "      <td>1.854637e-01</td>\n",
       "      <td>4.196864e-01</td>\n",
       "      <td>9.811414e-01</td>\n",
       "      <td>2.200797e-01</td>\n",
       "      <td>2.078787e-01</td>\n",
       "    </tr>\n",
       "    <tr>\n",
       "      <th>max</th>\n",
       "      <td>5.395794e+00</td>\n",
       "      <td>4.439542e+00</td>\n",
       "      <td>2.023424e+00</td>\n",
       "      <td>4.541053e+00</td>\n",
       "      <td>7.700343e+00</td>\n",
       "      <td>1.515167e+00</td>\n",
       "      <td>6.537137e+00</td>\n",
       "      <td>7.016286e+00</td>\n",
       "    </tr>\n",
       "  </tbody>\n",
       "</table>\n",
       "</div>"
      ],
      "text/plain": [
       "          Amp_range       Avg_amp    Freq_range  Pulses_per_Sec      Partials  \\\n",
       "count  4.630000e+02  4.630000e+02  4.630000e+02    4.630000e+02  4.630000e+02   \n",
       "mean  -2.234833e-16 -2.613700e-17  1.376389e-16    9.831349e-18 -5.730957e-17   \n",
       "std    1.001082e+00  1.001082e+00  1.001082e+00    1.001082e+00  1.001082e+00   \n",
       "min   -1.126886e+00 -1.034848e+00 -1.454986e+00   -9.741800e-01 -7.609606e-01   \n",
       "25%   -7.719542e-01 -7.676598e-01 -7.382237e-01   -6.295560e-01 -6.625733e-01   \n",
       "50%   -2.025991e-01 -3.305475e-01 -2.238519e-01   -3.596961e-01 -3.674116e-01   \n",
       "75%    4.465791e-01  4.928449e-01  7.642050e-01    1.854637e-01  4.196864e-01   \n",
       "max    5.395794e+00  4.439542e+00  2.023424e+00    4.541053e+00  7.700343e+00   \n",
       "\n",
       "               MFCC      Duration  Zero_Crossings  \n",
       "count  4.630000e+02  4.630000e+02    4.630000e+02  \n",
       "mean   9.476461e-16 -7.307569e-17    1.918312e-17  \n",
       "std    1.001082e+00  1.001082e+00    1.001082e+00  \n",
       "min   -1.490716e+00 -8.785390e-01   -8.017489e-01  \n",
       "25%   -9.757872e-01 -6.038843e-01   -5.631185e-01  \n",
       "50%   -4.317841e-02 -3.292297e-01   -3.431788e-01  \n",
       "75%    9.811414e-01  2.200797e-01    2.078787e-01  \n",
       "max    1.515167e+00  6.537137e+00    7.016286e+00  "
      ]
     },
     "execution_count": 15,
     "metadata": {},
     "output_type": "execute_result"
    }
   ],
   "source": [
    "df.describe(include='float64')"
   ]
  },
  {
   "cell_type": "markdown",
   "metadata": {},
   "source": [
    "## Convert categorical variables into dummy/indicator variables"
   ]
  },
  {
   "cell_type": "code",
   "execution_count": 16,
   "metadata": {},
   "outputs": [
    {
     "name": "stdout",
     "output_type": "stream",
     "text": [
      "<class 'pandas.core.frame.DataFrame'>\n",
      "RangeIndex: 463 entries, 0 to 462\n",
      "Data columns (total 26 columns):\n",
      " #   Column                  Non-Null Count  Dtype  \n",
      "---  ------                  --------------  -----  \n",
      " 0   Amp_range               463 non-null    float64\n",
      " 1   Avg_amp                 463 non-null    float64\n",
      " 2   Freq_range              463 non-null    float64\n",
      " 3   Pulses_per_Sec          463 non-null    float64\n",
      " 4   Partials                463 non-null    float64\n",
      " 5   MFCC                    463 non-null    float64\n",
      " 6   Duration                463 non-null    float64\n",
      " 7   Zero_Crossings          463 non-null    float64\n",
      " 8   Call                    444 non-null    object \n",
      " 9   Sex_Female              463 non-null    uint8  \n",
      " 10  Sex_Group               463 non-null    uint8  \n",
      " 11  Sex_Male                463 non-null    uint8  \n",
      " 12  Sex_Pair                463 non-null    uint8  \n",
      " 13  Sex_Unknown             463 non-null    uint8  \n",
      " 14  Age_Adult               463 non-null    uint8  \n",
      " 15  Age_Juvenile            463 non-null    uint8  \n",
      " 16  Age_Unknown             463 non-null    uint8  \n",
      " 17  Species_A. jubatus      463 non-null    uint8  \n",
      " 18  Species_Bobcat          463 non-null    uint8  \n",
      " 19  Species_C. temminckii   463 non-null    uint8  \n",
      " 20  Species_Caracal Carcal  463 non-null    uint8  \n",
      " 21  Species_Domestic Cat    463 non-null    uint8  \n",
      " 22  Species_L. lynx         463 non-null    uint8  \n",
      " 23  Species_L. serval       463 non-null    uint8  \n",
      " 24  Species_Ocelot          463 non-null    uint8  \n",
      " 25  Species_Wildcat         463 non-null    uint8  \n",
      "dtypes: float64(8), object(1), uint8(17)\n",
      "memory usage: 40.4+ KB\n"
     ]
    }
   ],
   "source": [
    "categorical = ['Sex', 'Age', 'Species']\n",
    "\n",
    "for var in categorical:\n",
    "    df = pd.concat([df, pd.get_dummies(df[var], prefix=var)], axis=1)\n",
    "    del df[var]\n",
    "    \n",
    "df.info()"
   ]
  },
  {
   "cell_type": "code",
   "execution_count": 17,
   "metadata": {},
   "outputs": [],
   "source": [
    "#Save new normalize data with dummy/indicator variables to new CSV\n",
    "df.to_csv('features_final.csv', index=False)"
   ]
  },
  {
   "cell_type": "markdown",
   "metadata": {},
   "source": [
    "## Splitting data"
   ]
  },
  {
   "cell_type": "code",
   "execution_count": 18,
   "metadata": {},
   "outputs": [],
   "source": [
    "X = df[pd.notnull(df['Call'])].drop(['Call'], axis=1)\n",
    "y = df[pd.notnull(df['Call'])]['Call']"
   ]
  },
  {
   "cell_type": "code",
   "execution_count": 19,
   "metadata": {},
   "outputs": [
    {
     "name": "stdout",
     "output_type": "stream",
     "text": [
      "(444, 25)\n",
      "(444,)\n"
     ]
    }
   ],
   "source": [
    "print(X.shape)\n",
    "print(y.shape)"
   ]
  },
  {
   "cell_type": "code",
   "execution_count": 20,
   "metadata": {},
   "outputs": [],
   "source": [
    "X_train, X_test, y_train, y_test = train_test_split(X, y, test_size = 0.30)"
   ]
  },
  {
   "cell_type": "code",
   "execution_count": 21,
   "metadata": {},
   "outputs": [
    {
     "name": "stdout",
     "output_type": "stream",
     "text": [
      "(310, 25)\n",
      "(134, 25)\n"
     ]
    }
   ],
   "source": [
    "print(X_train.shape)\n",
    "print(X_test.shape)"
   ]
  },
  {
   "cell_type": "code",
   "execution_count": 22,
   "metadata": {},
   "outputs": [
    {
     "name": "stdout",
     "output_type": "stream",
     "text": [
      "Call values for Data\n",
      "growl         233\n",
      "call          106\n",
      "hiss           67\n",
      "roar           12\n",
      "purr           11\n",
      "mew             9\n",
      "call/growl      4\n",
      "growl/hiss      2\n",
      "Name: Call, dtype: int64\n",
      "\n",
      "\n",
      "Call values for Testing\n",
      "growl         73\n",
      "call          31\n",
      "hiss          18\n",
      "purr           5\n",
      "roar           4\n",
      "call/growl     2\n",
      "mew            1\n",
      "Name: Call, dtype: int64\n"
     ]
    }
   ],
   "source": [
    "print('Call values for Data')\n",
    "print(df['Call'].value_counts())\n",
    "print('\\n')\n",
    "print('Call values for Testing')\n",
    "print(y_test.value_counts())"
   ]
  },
  {
   "cell_type": "code",
   "execution_count": 23,
   "metadata": {},
   "outputs": [
    {
     "name": "stdout",
     "output_type": "stream",
     "text": [
      "Calls trained for but not tested for\n",
      "{'growl/hiss'}\n",
      "Calls test for but not trained for\n",
      "set()\n"
     ]
    }
   ],
   "source": [
    "print('Calls trained for but not tested for')\n",
    "print(set(np.unique(y_train))-set(np.unique(y_test)))\n",
    "print('Calls test for but not trained for')\n",
    "print(set(np.unique(y_test))-set(np.unique(y_train)))"
   ]
  },
  {
   "cell_type": "markdown",
   "metadata": {},
   "source": [
    "## XGBoost"
   ]
  },
  {
   "cell_type": "code",
   "execution_count": 24,
   "metadata": {},
   "outputs": [],
   "source": [
    "parameters = dict(\n",
    "    objective='multi:softprob',\n",
    "    random_state = 30,\n",
    "    max_depth=9,\n",
    "    learning_rate=0.01,\n",
    "    subsample=0.8,\n",
    "    colsample_bytree=0.4,\n",
    "    tree_method='gpu_hist')\n",
    "#eval_metric='mlogloss'\n",
    "\n",
    "clf = XGBClassifier(**parameters, n_estimators=1200)"
   ]
  },
  {
   "cell_type": "code",
   "execution_count": 25,
   "metadata": {},
   "outputs": [
    {
     "name": "stderr",
     "output_type": "stream",
     "text": [
      "C:\\Users\\exant\\anaconda3\\lib\\site-packages\\xgboost\\sklearn.py:1146: UserWarning: The use of label encoder in XGBClassifier is deprecated and will be removed in a future release. To remove this warning, do the following: 1) Pass option use_label_encoder=False when constructing XGBClassifier object; and 2) Encode your labels (y) as integers starting with 0, i.e. 0, 1, 2, ..., [num_class - 1].\n",
      "  warnings.warn(label_encoder_deprecation_msg, UserWarning)\n"
     ]
    },
    {
     "name": "stdout",
     "output_type": "stream",
     "text": [
      "[21:00:12] WARNING: C:/Users/Administrator/workspace/xgboost-win64_release_1.4.0/src/learner.cc:1095: Starting in XGBoost 1.3.0, the default evaluation metric used with the objective 'multi:softprob' was changed from 'merror' to 'mlogloss'. Explicitly set eval_metric if you'd like to restore the old behavior.\n"
     ]
    },
    {
     "data": {
      "text/plain": [
       "XGBClassifier(base_score=0.5, booster='gbtree', colsample_bylevel=1,\n",
       "              colsample_bynode=1, colsample_bytree=0.4, gamma=0, gpu_id=0,\n",
       "              importance_type='gain', interaction_constraints='',\n",
       "              learning_rate=0.01, max_delta_step=0, max_depth=9,\n",
       "              min_child_weight=1, missing=nan, monotone_constraints='()',\n",
       "              n_estimators=1200, n_jobs=12, num_parallel_tree=1,\n",
       "              objective='multi:softprob', random_state=30, reg_alpha=0,\n",
       "              reg_lambda=1, scale_pos_weight=None, subsample=0.8,\n",
       "              tree_method='gpu_hist', validate_parameters=1, verbosity=None)"
      ]
     },
     "execution_count": 25,
     "metadata": {},
     "output_type": "execute_result"
    }
   ],
   "source": [
    "clf.fit(X_train, y_train)"
   ]
  },
  {
   "cell_type": "code",
   "execution_count": 26,
   "metadata": {},
   "outputs": [
    {
     "data": {
      "text/plain": [
       "1.0"
      ]
     },
     "execution_count": 26,
     "metadata": {},
     "output_type": "execute_result"
    }
   ],
   "source": [
    "clf.score(X_train, y_train)"
   ]
  },
  {
   "cell_type": "code",
   "execution_count": 27,
   "metadata": {},
   "outputs": [
    {
     "data": {
      "text/plain": [
       "0.8880597014925373"
      ]
     },
     "execution_count": 27,
     "metadata": {},
     "output_type": "execute_result"
    }
   ],
   "source": [
    "clf.score(X_test,y_test)"
   ]
  },
  {
   "cell_type": "code",
   "execution_count": 28,
   "metadata": {},
   "outputs": [],
   "source": [
    "y_pred = clf.predict(X_test)"
   ]
  },
  {
   "cell_type": "code",
   "execution_count": 29,
   "metadata": {},
   "outputs": [
    {
     "name": "stdout",
     "output_type": "stream",
     "text": [
      "1. Tested Calls\n",
      "['call' 'call/growl' 'growl' 'hiss' 'mew' 'purr' 'roar']\n",
      "2. Predicted Calls\n",
      "['call' 'growl' 'hiss' 'mew' 'purr' 'roar']\n",
      "3. Not tested for but predicted\n",
      "set()\n",
      "4. Tested for but not predicted\n",
      "{'call/growl'}\n"
     ]
    }
   ],
   "source": [
    "print('1. Tested Calls')\n",
    "print(np.unique(y_test))\n",
    "print('2. Predicted Calls')\n",
    "print(np.unique(y_pred))\n",
    "print('3. Not tested for but predicted')\n",
    "print(set(np.unique(y_pred))-set(np.unique(y_test)))\n",
    "print('4. Tested for but not predicted')\n",
    "print(set(np.unique(y_test))-set(np.unique(y_pred)))"
   ]
  },
  {
   "cell_type": "code",
   "execution_count": 30,
   "metadata": {},
   "outputs": [
    {
     "data": {
      "image/png": "[encoded data removed]",
      "text/plain": [
       "<Figure size 576x288 with 2 Axes>"
      ]
     },
     "metadata": {
      "needs_background": "light"
     },
     "output_type": "display_data"
    },
    {
     "name": "stdout",
     "output_type": "stream",
     "text": [
      "Accuracy 0.8880597014925373\n"
     ]
    }
   ],
   "source": [
    "names = sorted(list(set(np.unique(y_test)).union(set(y_pred))))\n",
    "cnf = confusion_matrix(y_test, y_pred)\n",
    "fig, ax = plt.subplots(figsize=(8,4))\n",
    "\n",
    "# Normalise\n",
    "cnf = cnf.astype('float')/cnf.sum(axis=1)[:, np.newaxis]\n",
    "\n",
    "sns.heatmap(cnf, annot=True, fmt='.1%', xticklabels=names, yticklabels=names,cmap= \"YlOrBr\")\n",
    "plt.title('XGBoost')\n",
    "ax.xaxis.set_label_position('top')\n",
    "plt.ylabel('Actual')\n",
    "plt.xlabel('Predicted')\n",
    "plt.show(block=False)\n",
    "print('Accuracy',clf.score(X_test, y_test))"
   ]
  },
  {
   "cell_type": "code",
   "execution_count": 31,
   "metadata": {},
   "outputs": [
    {
     "data": {
      "image/png": "[encoded data removed]",
      "text/plain": [
       "<Figure size 432x288 with 1 Axes>"
      ]
     },
     "metadata": {
      "needs_background": "light"
     },
     "output_type": "display_data"
    }
   ],
   "source": [
    "from xgboost import plot_importance\n",
    "plot_importance(clf)\n",
    "figsize=(5,10)\n",
    "plt.show()"
   ]
  },
  {
   "cell_type": "markdown",
   "metadata": {},
   "source": [
    "## SVM"
   ]
  },
  {
   "cell_type": "code",
   "execution_count": 32,
   "metadata": {},
   "outputs": [],
   "source": [
    "clf_svc = SVC()"
   ]
  },
  {
   "cell_type": "code",
   "execution_count": 33,
   "metadata": {},
   "outputs": [
    {
     "data": {
      "text/plain": [
       "SVC()"
      ]
     },
     "execution_count": 33,
     "metadata": {},
     "output_type": "execute_result"
    }
   ],
   "source": [
    "clf_svc.fit(X_train, y_train)"
   ]
  },
  {
   "cell_type": "code",
   "execution_count": 34,
   "metadata": {},
   "outputs": [
    {
     "data": {
      "text/plain": [
       "0.8451612903225807"
      ]
     },
     "execution_count": 34,
     "metadata": {},
     "output_type": "execute_result"
    }
   ],
   "source": [
    "clf_svc.score(X_train, y_train)"
   ]
  },
  {
   "cell_type": "code",
   "execution_count": 35,
   "metadata": {},
   "outputs": [
    {
     "data": {
      "text/plain": [
       "0.7985074626865671"
      ]
     },
     "execution_count": 35,
     "metadata": {},
     "output_type": "execute_result"
    }
   ],
   "source": [
    "clf_svc.score(X_test, y_test)"
   ]
  },
  {
   "cell_type": "code",
   "execution_count": 36,
   "metadata": {},
   "outputs": [],
   "source": [
    "y_pred_svc=clf_svc.predict(X_test)"
   ]
  },
  {
   "cell_type": "code",
   "execution_count": 37,
   "metadata": {},
   "outputs": [
    {
     "name": "stdout",
     "output_type": "stream",
     "text": [
      "1. Tested Calls\n",
      "['call' 'call/growl' 'growl' 'hiss' 'mew' 'purr' 'roar']\n",
      "2. Predicted Calls\n",
      "['call' 'growl' 'hiss' 'purr']\n",
      "3. False Positive\n",
      "set()\n",
      "4. False Negative\n",
      "{'mew', 'call/growl', 'roar'}\n"
     ]
    }
   ],
   "source": [
    "print('1. Tested Calls')\n",
    "print(np.unique(y_test))\n",
    "print('2. Predicted Calls')\n",
    "print(np.unique(y_pred_svc))\n",
    "print('3. False Positive')\n",
    "print(set(np.unique(y_pred_svc))-set(np.unique(y_test)))\n",
    "print('4. False Negative')\n",
    "print(set(np.unique(y_test))-set(np.unique(y_pred_svc)))"
   ]
  },
  {
   "cell_type": "code",
   "execution_count": 38,
   "metadata": {
    "scrolled": true
   },
   "outputs": [
    {
     "data": {
      "image/png": "[encoded data removed]",
      "text/plain": [
       "<Figure size 576x288 with 2 Axes>"
      ]
     },
     "metadata": {
      "needs_background": "light"
     },
     "output_type": "display_data"
    },
    {
     "name": "stdout",
     "output_type": "stream",
     "text": [
      "Accuracy 0.7985074626865671\n"
     ]
    }
   ],
   "source": [
    "names_svc = sorted(list(set(np.unique(y_test)).union(set(y_pred_svc))))\n",
    "cnf = confusion_matrix(y_test, y_pred_svc)\n",
    "fig, ax = plt.subplots(figsize=(8,4))\n",
    "\n",
    "# Normalise\n",
    "cnf = cnf.astype('float')/cnf.sum(axis=1)[:, np.newaxis]\n",
    "\n",
    "sns.heatmap(cnf, annot=True, fmt='.1%', xticklabels=names_svc, yticklabels=names_svc,cmap= \"YlOrBr\")\n",
    "plt.title('SVM Confusion Matrix')\n",
    "ax.xaxis.set_label_position('top')\n",
    "plt.ylabel('Actual')\n",
    "plt.xlabel('Predicted')\n",
    "plt.show(block=False)\n",
    "print('Accuracy',clf_svc.score(X_test, y_test))\n"
   ]
  },
  {
   "cell_type": "markdown",
   "metadata": {},
   "source": [
    "## Naive Bayes"
   ]
  },
  {
   "cell_type": "code",
   "execution_count": 39,
   "metadata": {},
   "outputs": [],
   "source": [
    "gnb = GaussianNB()"
   ]
  },
  {
   "cell_type": "code",
   "execution_count": 40,
   "metadata": {},
   "outputs": [
    {
     "data": {
      "text/plain": [
       "GaussianNB()"
      ]
     },
     "execution_count": 40,
     "metadata": {},
     "output_type": "execute_result"
    }
   ],
   "source": [
    "gnb.fit(X_train, y_train)"
   ]
  },
  {
   "cell_type": "code",
   "execution_count": 41,
   "metadata": {},
   "outputs": [
    {
     "data": {
      "text/plain": [
       "0.36774193548387096"
      ]
     },
     "execution_count": 41,
     "metadata": {},
     "output_type": "execute_result"
    }
   ],
   "source": [
    "gnb.score(X_train, y_train)"
   ]
  },
  {
   "cell_type": "code",
   "execution_count": 42,
   "metadata": {},
   "outputs": [
    {
     "data": {
      "text/plain": [
       "0.3805970149253731"
      ]
     },
     "execution_count": 42,
     "metadata": {},
     "output_type": "execute_result"
    }
   ],
   "source": [
    "gnb.score(X_test, y_test)"
   ]
  },
  {
   "cell_type": "code",
   "execution_count": 43,
   "metadata": {},
   "outputs": [],
   "source": [
    "y_pred_nb = gnb.predict(X_test)"
   ]
  },
  {
   "cell_type": "code",
   "execution_count": 44,
   "metadata": {},
   "outputs": [
    {
     "name": "stdout",
     "output_type": "stream",
     "text": [
      "1. Tested Calls\n",
      "['call' 'call/growl' 'growl' 'hiss' 'mew' 'purr' 'roar']\n",
      "2. Predicted Calls\n",
      "['call' 'call/growl' 'growl' 'growl/hiss' 'hiss' 'mew' 'purr' 'roar']\n",
      "3. Not tested for but predicted\n",
      "{'growl/hiss'}\n",
      "4. Tested for but not predicted\n",
      "set()\n"
     ]
    }
   ],
   "source": [
    "print('1. Tested Calls')\n",
    "print(np.unique(y_test))\n",
    "print('2. Predicted Calls')\n",
    "print(np.unique(y_pred_nb))\n",
    "print('3. Not tested for but predicted')\n",
    "print(set(np.unique(y_pred_nb))-set(np.unique(y_test)))\n",
    "print('4. Tested for but not predicted')\n",
    "print(set(np.unique(y_test))-set(np.unique(y_pred_nb)))"
   ]
  },
  {
   "cell_type": "code",
   "execution_count": 45,
   "metadata": {},
   "outputs": [
    {
     "name": "stderr",
     "output_type": "stream",
     "text": [
      "<ipython-input-45-1aa854e4d402>:6: RuntimeWarning: invalid value encountered in true_divide\n",
      "  cnf = cnf.astype('float')/cnf.sum(axis=1)[:, np.newaxis]\n"
     ]
    },
    {
     "data": {
      "image/png": "[encoded data removed]",
      "text/plain": [
       "<Figure size 576x288 with 2 Axes>"
      ]
     },
     "metadata": {
      "needs_background": "light"
     },
     "output_type": "display_data"
    },
    {
     "name": "stdout",
     "output_type": "stream",
     "text": [
      "Accuracy 0.3805970149253731\n"
     ]
    }
   ],
   "source": [
    "names_nb = sorted(list(set(np.unique(y_test)).union(set(y_pred_nb))))\n",
    "cnf = confusion_matrix(y_test, y_pred_nb)\n",
    "fig, ax = plt.subplots(figsize=(8,4))\n",
    "\n",
    "# Normalise\n",
    "cnf = cnf.astype('float')/cnf.sum(axis=1)[:, np.newaxis]\n",
    "\n",
    "sns.heatmap(cnf, annot=True, fmt='.1%', xticklabels=names_nb, yticklabels=names_nb,cmap= \"YlOrBr\")\n",
    "plt.title('Naive Bayes Confusion Matrix')\n",
    "ax.xaxis.set_label_position('top')\n",
    "plt.ylabel('Actual')\n",
    "plt.xlabel('Predicted')\n",
    "plt.show(block=False)\n",
    "print('Accuracy',gnb.score(X_test, y_test))"
   ]
  },
  {
   "cell_type": "markdown",
   "metadata": {},
   "source": [
    "## Logistic Regression"
   ]
  },
  {
   "cell_type": "code",
   "execution_count": 46,
   "metadata": {},
   "outputs": [],
   "source": [
    "lr = LogisticRegression(solver='liblinear', multi_class='ovr')"
   ]
  },
  {
   "cell_type": "code",
   "execution_count": 47,
   "metadata": {},
   "outputs": [
    {
     "data": {
      "text/plain": [
       "LogisticRegression(multi_class='ovr', solver='liblinear')"
      ]
     },
     "execution_count": 47,
     "metadata": {},
     "output_type": "execute_result"
    }
   ],
   "source": [
    "lr.fit(X_train,y_train)"
   ]
  },
  {
   "cell_type": "code",
   "execution_count": 48,
   "metadata": {},
   "outputs": [
    {
     "data": {
      "text/plain": [
       "0.7806451612903226"
      ]
     },
     "execution_count": 48,
     "metadata": {},
     "output_type": "execute_result"
    }
   ],
   "source": [
    "lr.score(X_train, y_train)"
   ]
  },
  {
   "cell_type": "code",
   "execution_count": 49,
   "metadata": {},
   "outputs": [
    {
     "data": {
      "text/plain": [
       "0.7985074626865671"
      ]
     },
     "execution_count": 49,
     "metadata": {},
     "output_type": "execute_result"
    }
   ],
   "source": [
    "lr.score(X_test, y_test)"
   ]
  },
  {
   "cell_type": "code",
   "execution_count": 50,
   "metadata": {},
   "outputs": [],
   "source": [
    "y_pred_lr = lr.predict(X_test)"
   ]
  },
  {
   "cell_type": "code",
   "execution_count": 51,
   "metadata": {},
   "outputs": [
    {
     "name": "stdout",
     "output_type": "stream",
     "text": [
      "1. Tested Calls\n",
      "['call' 'call/growl' 'growl' 'hiss' 'mew' 'purr' 'roar']\n",
      "2. Predicted Calls\n",
      "['call' 'growl' 'hiss' 'purr']\n",
      "3. Not tested for but predicted\n",
      "set()\n",
      "4. Tested for but not predicted\n",
      "{'mew', 'call/growl', 'roar'}\n"
     ]
    }
   ],
   "source": [
    "print('1. Tested Calls')\n",
    "print(np.unique(y_test))\n",
    "print('2. Predicted Calls')\n",
    "print(np.unique(y_pred_lr))\n",
    "print('3. Not tested for but predicted')\n",
    "print(set(np.unique(y_pred_lr))-set(np.unique(y_test)))\n",
    "print('4. Tested for but not predicted')\n",
    "print(set(np.unique(y_test))-set(np.unique(y_pred_lr)))"
   ]
  },
  {
   "cell_type": "code",
   "execution_count": 52,
   "metadata": {},
   "outputs": [
    {
     "data": {
      "image/png": "[encoded data removed]",
      "text/plain": [
       "<Figure size 576x288 with 2 Axes>"
      ]
     },
     "metadata": {
      "needs_background": "light"
     },
     "output_type": "display_data"
    },
    {
     "name": "stdout",
     "output_type": "stream",
     "text": [
      "Accuracy 0.7985074626865671\n"
     ]
    }
   ],
   "source": [
    "names_lr = sorted(list(set(np.unique(y_test)).union(set(y_pred_lr))))\n",
    "cnf = confusion_matrix(y_test, y_pred_lr)\n",
    "fig, ax = plt.subplots(figsize=(8,4))\n",
    "\n",
    "# Normalise\n",
    "cnf = cnf.astype('float')/cnf.sum(axis=1)[:, np.newaxis]\n",
    "\n",
    "sns.heatmap(cnf, annot=True, fmt='.1%', xticklabels=names_lr, yticklabels=names_lr,cmap= \"YlOrBr\")\n",
    "plt.title('Logistic Regression')\n",
    "ax.xaxis.set_label_position('top')\n",
    "plt.ylabel('Actual')\n",
    "plt.xlabel('Predicted')\n",
    "plt.show(block=False)\n",
    "print('Accuracy',lr.score(X_test, y_test))"
   ]
  },
  {
   "cell_type": "markdown",
   "metadata": {},
   "source": [
    "## KNN"
   ]
  },
  {
   "cell_type": "code",
   "execution_count": 53,
   "metadata": {},
   "outputs": [],
   "source": [
    "knn = KNeighborsClassifier()"
   ]
  },
  {
   "cell_type": "code",
   "execution_count": 54,
   "metadata": {},
   "outputs": [
    {
     "data": {
      "text/plain": [
       "KNeighborsClassifier()"
      ]
     },
     "execution_count": 54,
     "metadata": {},
     "output_type": "execute_result"
    }
   ],
   "source": [
    "knn.fit(X_train, y_train)"
   ]
  },
  {
   "cell_type": "code",
   "execution_count": 55,
   "metadata": {},
   "outputs": [
    {
     "data": {
      "text/plain": [
       "0.832258064516129"
      ]
     },
     "execution_count": 55,
     "metadata": {},
     "output_type": "execute_result"
    }
   ],
   "source": [
    "knn.score(X_train, y_train)"
   ]
  },
  {
   "cell_type": "code",
   "execution_count": 56,
   "metadata": {},
   "outputs": [
    {
     "data": {
      "text/plain": [
       "0.7835820895522388"
      ]
     },
     "execution_count": 56,
     "metadata": {},
     "output_type": "execute_result"
    }
   ],
   "source": [
    "knn.score(X_test, y_test)"
   ]
  },
  {
   "cell_type": "code",
   "execution_count": 57,
   "metadata": {},
   "outputs": [],
   "source": [
    "y_pred_knn = knn.predict(X_test)"
   ]
  },
  {
   "cell_type": "code",
   "execution_count": 58,
   "metadata": {},
   "outputs": [
    {
     "name": "stdout",
     "output_type": "stream",
     "text": [
      "1. Tested Calls\n",
      "['call' 'call/growl' 'growl' 'hiss' 'mew' 'purr' 'roar']\n",
      "2. Predicted Calls\n",
      "['call' 'growl' 'hiss' 'mew' 'purr']\n",
      "3. Not tested for but predicted\n",
      "set()\n",
      "4. Tested for but not predicted\n",
      "{'call/growl', 'roar'}\n"
     ]
    }
   ],
   "source": [
    "print('1. Tested Calls')\n",
    "print(np.unique(y_test))\n",
    "print('2. Predicted Calls')\n",
    "print(np.unique(y_pred_knn))\n",
    "print('3. Not tested for but predicted')\n",
    "print(set(np.unique(y_pred_knn))-set(np.unique(y_test)))\n",
    "print('4. Tested for but not predicted')\n",
    "print(set(np.unique(y_test))-set(np.unique(y_pred_knn)))"
   ]
  },
  {
   "cell_type": "code",
   "execution_count": 59,
   "metadata": {},
   "outputs": [
    {
     "data": {
      "image/png": "[encoded data removed]",
      "text/plain": [
       "<Figure size 576x288 with 2 Axes>"
      ]
     },
     "metadata": {
      "needs_background": "light"
     },
     "output_type": "display_data"
    },
    {
     "name": "stdout",
     "output_type": "stream",
     "text": [
      "Accuracy 0.7835820895522388\n"
     ]
    }
   ],
   "source": [
    "names_knn = sorted(list(set(np.unique(y_test)).union(set(y_pred_knn))))\n",
    "cnf = confusion_matrix(y_test, y_pred_knn)\n",
    "fig, ax = plt.subplots(figsize=(8,4))\n",
    "\n",
    "#Normalise\n",
    "cnf = cnf.astype('float')/cnf.sum(axis=1)[:, np.newaxis]\n",
    "\n",
    "sns.heatmap(cnf, annot=True, fmt='.1%', xticklabels=names_knn, yticklabels=names_knn,cmap= \"YlOrBr\")\n",
    "plt.title('KNN')\n",
    "ax.xaxis.set_label_position('top')\n",
    "plt.ylabel('Actual')\n",
    "plt.xlabel('Predicted')\n",
    "plt.show(block=False)\n",
    "print('Accuracy',knn.score(X_test, y_test))"
   ]
  },
  {
   "cell_type": "markdown",
   "metadata": {},
   "source": [
    "## Decision Tree Classifier"
   ]
  },
  {
   "cell_type": "code",
   "execution_count": 60,
   "metadata": {},
   "outputs": [],
   "source": [
    "cart = DecisionTreeClassifier()"
   ]
  },
  {
   "cell_type": "code",
   "execution_count": 61,
   "metadata": {},
   "outputs": [
    {
     "data": {
      "text/plain": [
       "DecisionTreeClassifier()"
      ]
     },
     "execution_count": 61,
     "metadata": {},
     "output_type": "execute_result"
    }
   ],
   "source": [
    "cart.fit(X_train, y_train)"
   ]
  },
  {
   "cell_type": "code",
   "execution_count": 62,
   "metadata": {},
   "outputs": [
    {
     "data": {
      "text/plain": [
       "1.0"
      ]
     },
     "execution_count": 62,
     "metadata": {},
     "output_type": "execute_result"
    }
   ],
   "source": [
    "cart.score(X_train, y_train)"
   ]
  },
  {
   "cell_type": "code",
   "execution_count": 63,
   "metadata": {},
   "outputs": [
    {
     "data": {
      "text/plain": [
       "0.7388059701492538"
      ]
     },
     "execution_count": 63,
     "metadata": {},
     "output_type": "execute_result"
    }
   ],
   "source": [
    "cart.score(X_test, y_test)"
   ]
  },
  {
   "cell_type": "code",
   "execution_count": 64,
   "metadata": {},
   "outputs": [],
   "source": [
    "y_pred_cart = cart.predict(X_test)"
   ]
  },
  {
   "cell_type": "code",
   "execution_count": 65,
   "metadata": {},
   "outputs": [
    {
     "name": "stdout",
     "output_type": "stream",
     "text": [
      "1. Tested Calls\n",
      "['call' 'call/growl' 'growl' 'hiss' 'mew' 'purr' 'roar']\n",
      "2. Predicted Calls\n",
      "['call' 'growl' 'growl/hiss' 'hiss' 'mew' 'purr' 'roar']\n",
      "3. Not tested for but predicted\n",
      "{'growl/hiss'}\n",
      "4. Tested for but not predicted\n",
      "{'call/growl'}\n"
     ]
    }
   ],
   "source": [
    "print('1. Tested Calls')\n",
    "print(np.unique(y_test))\n",
    "print('2. Predicted Calls')\n",
    "print(np.unique(y_pred_cart))\n",
    "print('3. Not tested for but predicted')\n",
    "print(set(np.unique(y_pred_cart))-set(np.unique(y_test)))\n",
    "print('4. Tested for but not predicted')\n",
    "print(set(np.unique(y_test))-set(np.unique(y_pred_cart)))"
   ]
  },
  {
   "cell_type": "code",
   "execution_count": 66,
   "metadata": {},
   "outputs": [
    {
     "name": "stderr",
     "output_type": "stream",
     "text": [
      "<ipython-input-66-88420ebca96d>:6: RuntimeWarning: invalid value encountered in true_divide\n",
      "  cnf = cnf.astype('float')/cnf.sum(axis=1)[:, np.newaxis]\n"
     ]
    },
    {
     "data": {
      "image/png": "[encoded data removed]",
      "text/plain": [
       "<Figure size 576x288 with 2 Axes>"
      ]
     },
     "metadata": {
      "needs_background": "light"
     },
     "output_type": "display_data"
    },
    {
     "name": "stdout",
     "output_type": "stream",
     "text": [
      "Accuracy 0.7388059701492538\n"
     ]
    }
   ],
   "source": [
    "names_cart = sorted(list(set(np.unique(y_test)).union(set(y_pred_cart))))\n",
    "cnf = confusion_matrix(y_test, y_pred_cart)\n",
    "fig, ax = plt.subplots(figsize=(8,4))\n",
    "\n",
    "# Normalise\n",
    "cnf = cnf.astype('float')/cnf.sum(axis=1)[:, np.newaxis]\n",
    "\n",
    "sns.heatmap(cnf, annot=True, fmt='.1%', xticklabels=names_cart, yticklabels=names_cart,cmap= \"YlOrBr\")\n",
    "plt.title('Decision Tree Classifier')\n",
    "ax.xaxis.set_label_position('top')\n",
    "plt.ylabel('Actual')\n",
    "plt.xlabel('Predicted')\n",
    "plt.show(block=False)\n",
    "print('Accuracy',cart.score(X_test, y_test))"
   ]
  },
  {
   "cell_type": "markdown",
   "metadata": {},
   "source": [
    "## Random Forest Classifier"
   ]
  },
  {
   "cell_type": "code",
   "execution_count": 67,
   "metadata": {},
   "outputs": [],
   "source": [
    "rf = RandomForestClassifier()"
   ]
  },
  {
   "cell_type": "code",
   "execution_count": 68,
   "metadata": {},
   "outputs": [
    {
     "data": {
      "text/plain": [
       "RandomForestClassifier()"
      ]
     },
     "execution_count": 68,
     "metadata": {},
     "output_type": "execute_result"
    }
   ],
   "source": [
    "rf.fit(X_train, y_train)"
   ]
  },
  {
   "cell_type": "code",
   "execution_count": 69,
   "metadata": {},
   "outputs": [
    {
     "data": {
      "text/plain": [
       "1.0"
      ]
     },
     "execution_count": 69,
     "metadata": {},
     "output_type": "execute_result"
    }
   ],
   "source": [
    "rf.score(X_train, y_train)"
   ]
  },
  {
   "cell_type": "code",
   "execution_count": 70,
   "metadata": {},
   "outputs": [
    {
     "data": {
      "text/plain": [
       "0.8582089552238806"
      ]
     },
     "execution_count": 70,
     "metadata": {},
     "output_type": "execute_result"
    }
   ],
   "source": [
    "rf.score(X_test, y_test)"
   ]
  },
  {
   "cell_type": "code",
   "execution_count": 71,
   "metadata": {},
   "outputs": [],
   "source": [
    "y_pred_rf = cart.predict(X_test)"
   ]
  },
  {
   "cell_type": "code",
   "execution_count": 72,
   "metadata": {},
   "outputs": [
    {
     "name": "stdout",
     "output_type": "stream",
     "text": [
      "1. Tested Calls\n",
      "['call' 'call/growl' 'growl' 'hiss' 'mew' 'purr' 'roar']\n",
      "2. Predicted Calls\n",
      "['call' 'growl' 'growl/hiss' 'hiss' 'mew' 'purr' 'roar']\n",
      "3. Not tested for but predicted\n",
      "{'growl/hiss'}\n",
      "4. Tested for but not predicted\n",
      "{'call/growl'}\n"
     ]
    }
   ],
   "source": [
    "print('1. Tested Calls')\n",
    "print(np.unique(y_test))\n",
    "print('2. Predicted Calls')\n",
    "print(np.unique(y_pred_rf))\n",
    "print('3. Not tested for but predicted')\n",
    "print(set(np.unique(y_pred_rf))-set(np.unique(y_test)))\n",
    "print('4. Tested for but not predicted')\n",
    "print(set(np.unique(y_test))-set(np.unique(y_pred_rf)))"
   ]
  },
  {
   "cell_type": "code",
   "execution_count": 73,
   "metadata": {},
   "outputs": [
    {
     "name": "stderr",
     "output_type": "stream",
     "text": [
      "<ipython-input-73-14d378f91c68>:6: RuntimeWarning: invalid value encountered in true_divide\n",
      "  cnf = cnf.astype('float')/cnf.sum(axis=1)[:, np.newaxis]\n"
     ]
    },
    {
     "data": {
      "image/png": "[encoded data removed]",
      "text/plain": [
       "<Figure size 576x288 with 2 Axes>"
      ]
     },
     "metadata": {
      "needs_background": "light"
     },
     "output_type": "display_data"
    },
    {
     "name": "stdout",
     "output_type": "stream",
     "text": [
      "Accuracy 0.8582089552238806\n"
     ]
    }
   ],
   "source": [
    "names_rf = sorted(list(set(np.unique(y_test)).union(set(y_pred_rf))))\n",
    "cnf = confusion_matrix(y_test, y_pred_rf)\n",
    "fig, ax = plt.subplots(figsize=(8,4))\n",
    "\n",
    "# Normalise\n",
    "cnf = cnf.astype('float')/cnf.sum(axis=1)[:, np.newaxis]\n",
    "\n",
    "sns.heatmap(cnf, annot=True, fmt='.1%', xticklabels=names_rf, yticklabels=names_rf,cmap= \"YlOrBr\")\n",
    "plt.title('Random Forest')\n",
    "ax.xaxis.set_label_position('top')\n",
    "plt.ylabel('Actual')\n",
    "plt.xlabel('Predicted')\n",
    "plt.show(block=False)\n",
    "print('Accuracy',rf.score(X_test, y_test))"
   ]
  },
  {
   "cell_type": "code",
   "execution_count": 74,
   "metadata": {},
   "outputs": [
    {
     "data": {
      "text/plain": [
       "growl         233\n",
       "call          106\n",
       "hiss           67\n",
       "roar           12\n",
       "purr           11\n",
       "mew             9\n",
       "call/growl      4\n",
       "growl/hiss      2\n",
       "Name: Call, dtype: int64"
      ]
     },
     "execution_count": 74,
     "metadata": {},
     "output_type": "execute_result"
    }
   ],
   "source": [
    "#The data is unbalanced, this could be fixed by updating the class weights \n",
    "#Or getting more varied data\n",
    "df['Call'].value_counts()"
   ]
  }
 ],
 "metadata": {
  "kernelspec": {
   "display_name": "Python 3",
   "language": "python",
   "name": "python3"
  },
  "language_info": {
   "codemirror_mode": {
    "name": "ipython",
    "version": 3
   },
   "file_extension": ".py",
   "mimetype": "text/x-python",
   "name": "python",
   "nbconvert_exporter": "python",
   "pygments_lexer": "ipython3",
   "version": "3.8.8"
  }
 },
 "nbformat": 4,
 "nbformat_minor": 4
}
