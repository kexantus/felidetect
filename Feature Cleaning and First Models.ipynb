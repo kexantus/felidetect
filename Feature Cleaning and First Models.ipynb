{
 "cells": [
  {
   "cell_type": "code",
   "execution_count": 1,
   "metadata": {},
   "outputs": [],
   "source": [
    "import pandas as pd\n",
    "import numpy as np\n",
    "import matplotlib.pyplot as plt\n",
    "from sklearn.model_selection import train_test_split\n",
    "from sklearn.preprocessing import StandardScaler, MinMaxScaler, OneHotEncoder\n",
    "from sklearn.ensemble import RandomForestClassifier\n",
    "from xgboost import XGBClassifier\n",
    "from sklearn.naive_bayes import GaussianNB, CategoricalNB\n",
    "from sklearn.metrics import confusion_matrix\n",
    "import seaborn as sns\n",
    "from sklearn.svm import SVC"
   ]
  },
  {
   "cell_type": "code",
   "execution_count": 2,
   "metadata": {},
   "outputs": [],
   "source": [
    "df = pd.read_csv('features.csv')"
   ]
  },
  {
   "cell_type": "code",
   "execution_count": 3,
   "metadata": {},
   "outputs": [
    {
     "data": {
      "text/html": [
       "<div>\n",
       "<style scoped>\n",
       "    .dataframe tbody tr th:only-of-type {\n",
       "        vertical-align: middle;\n",
       "    }\n",
       "\n",
       "    .dataframe tbody tr th {\n",
       "        vertical-align: top;\n",
       "    }\n",
       "\n",
       "    .dataframe thead th {\n",
       "        text-align: right;\n",
       "    }\n",
       "</style>\n",
       "<table border=\"1\" class=\"dataframe\">\n",
       "  <thead>\n",
       "    <tr style=\"text-align: right;\">\n",
       "      <th></th>\n",
       "      <th>Amp_range</th>\n",
       "      <th>Avg_amp</th>\n",
       "      <th>Freq_range</th>\n",
       "      <th>Pulses_per_Sec</th>\n",
       "      <th>Partials</th>\n",
       "      <th>MFCC</th>\n",
       "      <th>Duration</th>\n",
       "      <th>Zero_Crossings</th>\n",
       "      <th>Sex</th>\n",
       "      <th>Age</th>\n",
       "      <th>Species</th>\n",
       "      <th>Call</th>\n",
       "    </tr>\n",
       "  </thead>\n",
       "  <tbody>\n",
       "    <tr>\n",
       "      <th>0</th>\n",
       "      <td>0.083313</td>\n",
       "      <td>0.015951</td>\n",
       "      <td>848.0</td>\n",
       "      <td>263.00</td>\n",
       "      <td>2</td>\n",
       "      <td>-10.254556</td>\n",
       "      <td>1</td>\n",
       "      <td>706</td>\n",
       "      <td>NaN</td>\n",
       "      <td>A</td>\n",
       "      <td>A. jubatus</td>\n",
       "      <td>growl</td>\n",
       "    </tr>\n",
       "    <tr>\n",
       "      <th>1</th>\n",
       "      <td>0.296424</td>\n",
       "      <td>0.035485</td>\n",
       "      <td>3645.5</td>\n",
       "      <td>452.25</td>\n",
       "      <td>21</td>\n",
       "      <td>-10.254556</td>\n",
       "      <td>4</td>\n",
       "      <td>3456</td>\n",
       "      <td>NaN</td>\n",
       "      <td>A</td>\n",
       "      <td>A. jubatus</td>\n",
       "      <td>NaN</td>\n",
       "    </tr>\n",
       "    <tr>\n",
       "      <th>2</th>\n",
       "      <td>0.171860</td>\n",
       "      <td>0.022913</td>\n",
       "      <td>2181.8</td>\n",
       "      <td>308.00</td>\n",
       "      <td>8</td>\n",
       "      <td>-10.254556</td>\n",
       "      <td>5</td>\n",
       "      <td>2984</td>\n",
       "      <td>NaN</td>\n",
       "      <td>A</td>\n",
       "      <td>A. jubatus</td>\n",
       "      <td>growl</td>\n",
       "    </tr>\n",
       "    <tr>\n",
       "      <th>3</th>\n",
       "      <td>0.243933</td>\n",
       "      <td>0.023587</td>\n",
       "      <td>3437.0</td>\n",
       "      <td>314.00</td>\n",
       "      <td>11</td>\n",
       "      <td>-10.254556</td>\n",
       "      <td>5</td>\n",
       "      <td>3108</td>\n",
       "      <td>NaN</td>\n",
       "      <td>A</td>\n",
       "      <td>A. jubatus</td>\n",
       "      <td>NaN</td>\n",
       "    </tr>\n",
       "    <tr>\n",
       "      <th>4</th>\n",
       "      <td>0.194653</td>\n",
       "      <td>0.029304</td>\n",
       "      <td>2189.0</td>\n",
       "      <td>331.00</td>\n",
       "      <td>5</td>\n",
       "      <td>-10.254556</td>\n",
       "      <td>3</td>\n",
       "      <td>1919</td>\n",
       "      <td>NaN</td>\n",
       "      <td>A</td>\n",
       "      <td>A. jubatus</td>\n",
       "      <td>growl</td>\n",
       "    </tr>\n",
       "  </tbody>\n",
       "</table>\n",
       "</div>"
      ],
      "text/plain": [
       "   Amp_range   Avg_amp  Freq_range  Pulses_per_Sec  Partials       MFCC  \\\n",
       "0   0.083313  0.015951       848.0          263.00         2 -10.254556   \n",
       "1   0.296424  0.035485      3645.5          452.25        21 -10.254556   \n",
       "2   0.171860  0.022913      2181.8          308.00         8 -10.254556   \n",
       "3   0.243933  0.023587      3437.0          314.00        11 -10.254556   \n",
       "4   0.194653  0.029304      2189.0          331.00         5 -10.254556   \n",
       "\n",
       "   Duration  Zero_Crossings  Sex Age     Species   Call  \n",
       "0         1             706  NaN   A  A. jubatus  growl  \n",
       "1         4            3456  NaN   A  A. jubatus    NaN  \n",
       "2         5            2984  NaN   A  A. jubatus  growl  \n",
       "3         5            3108  NaN   A  A. jubatus    NaN  \n",
       "4         3            1919  NaN   A  A. jubatus  growl  "
      ]
     },
     "execution_count": 3,
     "metadata": {},
     "output_type": "execute_result"
    }
   ],
   "source": [
    "df.head()"
   ]
  },
  {
   "cell_type": "code",
   "execution_count": 4,
   "metadata": {},
   "outputs": [
    {
     "name": "stdout",
     "output_type": "stream",
     "text": [
      "<class 'pandas.core.frame.DataFrame'>\n",
      "RangeIndex: 463 entries, 0 to 462\n",
      "Data columns (total 12 columns):\n",
      " #   Column          Non-Null Count  Dtype  \n",
      "---  ------          --------------  -----  \n",
      " 0   Amp_range       463 non-null    float64\n",
      " 1   Avg_amp         463 non-null    float64\n",
      " 2   Freq_range      463 non-null    float64\n",
      " 3   Pulses_per_Sec  463 non-null    float64\n",
      " 4   Partials        463 non-null    int64  \n",
      " 5   MFCC            463 non-null    float64\n",
      " 6   Duration        463 non-null    int64  \n",
      " 7   Zero_Crossings  463 non-null    int64  \n",
      " 8   Sex             342 non-null    object \n",
      " 9   Age             375 non-null    object \n",
      " 10  Species         463 non-null    object \n",
      " 11  Call            450 non-null    object \n",
      "dtypes: float64(5), int64(3), object(4)\n",
      "memory usage: 43.5+ KB\n"
     ]
    }
   ],
   "source": [
    "df.info()"
   ]
  },
  {
   "cell_type": "code",
   "execution_count": 5,
   "metadata": {},
   "outputs": [
    {
     "data": {
      "text/html": [
       "<div>\n",
       "<style scoped>\n",
       "    .dataframe tbody tr th:only-of-type {\n",
       "        vertical-align: middle;\n",
       "    }\n",
       "\n",
       "    .dataframe tbody tr th {\n",
       "        vertical-align: top;\n",
       "    }\n",
       "\n",
       "    .dataframe thead th {\n",
       "        text-align: right;\n",
       "    }\n",
       "</style>\n",
       "<table border=\"1\" class=\"dataframe\">\n",
       "  <thead>\n",
       "    <tr style=\"text-align: right;\">\n",
       "      <th></th>\n",
       "      <th>Amp_range</th>\n",
       "      <th>Avg_amp</th>\n",
       "      <th>Freq_range</th>\n",
       "      <th>Pulses_per_Sec</th>\n",
       "      <th>Partials</th>\n",
       "      <th>MFCC</th>\n",
       "      <th>Duration</th>\n",
       "      <th>Zero_Crossings</th>\n",
       "      <th>Sex</th>\n",
       "      <th>Age</th>\n",
       "      <th>Species</th>\n",
       "      <th>Call</th>\n",
       "    </tr>\n",
       "  </thead>\n",
       "  <tbody>\n",
       "    <tr>\n",
       "      <th>count</th>\n",
       "      <td>463.000000</td>\n",
       "      <td>463.000000</td>\n",
       "      <td>463.000000</td>\n",
       "      <td>463.000000</td>\n",
       "      <td>463.000000</td>\n",
       "      <td>463.000000</td>\n",
       "      <td>463.000000</td>\n",
       "      <td>463.000000</td>\n",
       "      <td>342</td>\n",
       "      <td>375</td>\n",
       "      <td>463</td>\n",
       "      <td>450</td>\n",
       "    </tr>\n",
       "    <tr>\n",
       "      <th>unique</th>\n",
       "      <td>NaN</td>\n",
       "      <td>NaN</td>\n",
       "      <td>NaN</td>\n",
       "      <td>NaN</td>\n",
       "      <td>NaN</td>\n",
       "      <td>NaN</td>\n",
       "      <td>NaN</td>\n",
       "      <td>NaN</td>\n",
       "      <td>11</td>\n",
       "      <td>6</td>\n",
       "      <td>9</td>\n",
       "      <td>28</td>\n",
       "    </tr>\n",
       "    <tr>\n",
       "      <th>top</th>\n",
       "      <td>NaN</td>\n",
       "      <td>NaN</td>\n",
       "      <td>NaN</td>\n",
       "      <td>NaN</td>\n",
       "      <td>NaN</td>\n",
       "      <td>NaN</td>\n",
       "      <td>NaN</td>\n",
       "      <td>NaN</td>\n",
       "      <td>Male</td>\n",
       "      <td>Adult</td>\n",
       "      <td>Ocelot</td>\n",
       "      <td>growl</td>\n",
       "    </tr>\n",
       "    <tr>\n",
       "      <th>freq</th>\n",
       "      <td>NaN</td>\n",
       "      <td>NaN</td>\n",
       "      <td>NaN</td>\n",
       "      <td>NaN</td>\n",
       "      <td>NaN</td>\n",
       "      <td>NaN</td>\n",
       "      <td>NaN</td>\n",
       "      <td>NaN</td>\n",
       "      <td>187</td>\n",
       "      <td>262</td>\n",
       "      <td>113</td>\n",
       "      <td>208</td>\n",
       "    </tr>\n",
       "    <tr>\n",
       "      <th>mean</th>\n",
       "      <td>0.172086</td>\n",
       "      <td>0.019025</td>\n",
       "      <td>4463.574141</td>\n",
       "      <td>650.632934</td>\n",
       "      <td>7.734341</td>\n",
       "      <td>-16.697629</td>\n",
       "      <td>4.198704</td>\n",
       "      <td>7744.779698</td>\n",
       "      <td>NaN</td>\n",
       "      <td>NaN</td>\n",
       "      <td>NaN</td>\n",
       "      <td>NaN</td>\n",
       "    </tr>\n",
       "    <tr>\n",
       "      <th>std</th>\n",
       "      <td>0.150026</td>\n",
       "      <td>0.017871</td>\n",
       "      <td>3070.408521</td>\n",
       "      <td>668.599927</td>\n",
       "      <td>10.174912</td>\n",
       "      <td>8.567397</td>\n",
       "      <td>3.644874</td>\n",
       "      <td>9319.442262</td>\n",
       "      <td>NaN</td>\n",
       "      <td>NaN</td>\n",
       "      <td>NaN</td>\n",
       "      <td>NaN</td>\n",
       "    </tr>\n",
       "    <tr>\n",
       "      <th>min</th>\n",
       "      <td>0.003207</td>\n",
       "      <td>0.000551</td>\n",
       "      <td>1.000000</td>\n",
       "      <td>0.000000</td>\n",
       "      <td>0.000000</td>\n",
       "      <td>-29.455383</td>\n",
       "      <td>1.000000</td>\n",
       "      <td>281.000000</td>\n",
       "      <td>NaN</td>\n",
       "      <td>NaN</td>\n",
       "      <td>NaN</td>\n",
       "      <td>NaN</td>\n",
       "    </tr>\n",
       "    <tr>\n",
       "      <th>25%</th>\n",
       "      <td>0.056398</td>\n",
       "      <td>0.005321</td>\n",
       "      <td>2199.375000</td>\n",
       "      <td>230.166667</td>\n",
       "      <td>1.000000</td>\n",
       "      <td>-25.048552</td>\n",
       "      <td>2.000000</td>\n",
       "      <td>2502.500000</td>\n",
       "      <td>NaN</td>\n",
       "      <td>NaN</td>\n",
       "      <td>NaN</td>\n",
       "      <td>NaN</td>\n",
       "    </tr>\n",
       "    <tr>\n",
       "      <th>50%</th>\n",
       "      <td>0.141724</td>\n",
       "      <td>0.013124</td>\n",
       "      <td>3777.000000</td>\n",
       "      <td>410.400000</td>\n",
       "      <td>4.000000</td>\n",
       "      <td>-17.067156</td>\n",
       "      <td>3.000000</td>\n",
       "      <td>4550.000000</td>\n",
       "      <td>NaN</td>\n",
       "      <td>NaN</td>\n",
       "      <td>NaN</td>\n",
       "      <td>NaN</td>\n",
       "    </tr>\n",
       "    <tr>\n",
       "      <th>75%</th>\n",
       "      <td>0.239012</td>\n",
       "      <td>0.027823</td>\n",
       "      <td>6807.460317</td>\n",
       "      <td>774.500000</td>\n",
       "      <td>12.000000</td>\n",
       "      <td>-8.300884</td>\n",
       "      <td>5.000000</td>\n",
       "      <td>9680.000000</td>\n",
       "      <td>NaN</td>\n",
       "      <td>NaN</td>\n",
       "      <td>NaN</td>\n",
       "      <td>NaN</td>\n",
       "    </tr>\n",
       "    <tr>\n",
       "      <th>max</th>\n",
       "      <td>0.980719</td>\n",
       "      <td>0.098279</td>\n",
       "      <td>10669.600000</td>\n",
       "      <td>3683.500000</td>\n",
       "      <td>86.000000</td>\n",
       "      <td>-3.730616</td>\n",
       "      <td>28.000000</td>\n",
       "      <td>73062.000000</td>\n",
       "      <td>NaN</td>\n",
       "      <td>NaN</td>\n",
       "      <td>NaN</td>\n",
       "      <td>NaN</td>\n",
       "    </tr>\n",
       "  </tbody>\n",
       "</table>\n",
       "</div>"
      ],
      "text/plain": [
       "         Amp_range     Avg_amp    Freq_range  Pulses_per_Sec    Partials  \\\n",
       "count   463.000000  463.000000    463.000000      463.000000  463.000000   \n",
       "unique         NaN         NaN           NaN             NaN         NaN   \n",
       "top            NaN         NaN           NaN             NaN         NaN   \n",
       "freq           NaN         NaN           NaN             NaN         NaN   \n",
       "mean      0.172086    0.019025   4463.574141      650.632934    7.734341   \n",
       "std       0.150026    0.017871   3070.408521      668.599927   10.174912   \n",
       "min       0.003207    0.000551      1.000000        0.000000    0.000000   \n",
       "25%       0.056398    0.005321   2199.375000      230.166667    1.000000   \n",
       "50%       0.141724    0.013124   3777.000000      410.400000    4.000000   \n",
       "75%       0.239012    0.027823   6807.460317      774.500000   12.000000   \n",
       "max       0.980719    0.098279  10669.600000     3683.500000   86.000000   \n",
       "\n",
       "              MFCC    Duration  Zero_Crossings   Sex    Age Species   Call  \n",
       "count   463.000000  463.000000      463.000000   342    375     463    450  \n",
       "unique         NaN         NaN             NaN    11      6       9     28  \n",
       "top            NaN         NaN             NaN  Male  Adult  Ocelot  growl  \n",
       "freq           NaN         NaN             NaN   187    262     113    208  \n",
       "mean    -16.697629    4.198704     7744.779698   NaN    NaN     NaN    NaN  \n",
       "std       8.567397    3.644874     9319.442262   NaN    NaN     NaN    NaN  \n",
       "min     -29.455383    1.000000      281.000000   NaN    NaN     NaN    NaN  \n",
       "25%     -25.048552    2.000000     2502.500000   NaN    NaN     NaN    NaN  \n",
       "50%     -17.067156    3.000000     4550.000000   NaN    NaN     NaN    NaN  \n",
       "75%      -8.300884    5.000000     9680.000000   NaN    NaN     NaN    NaN  \n",
       "max      -3.730616   28.000000    73062.000000   NaN    NaN     NaN    NaN  "
      ]
     },
     "execution_count": 5,
     "metadata": {},
     "output_type": "execute_result"
    }
   ],
   "source": [
    "df.describe(include='all')"
   ]
  },
  {
   "cell_type": "code",
   "execution_count": 6,
   "metadata": {},
   "outputs": [
    {
     "data": {
      "text/plain": [
       "array(['growl', nan, 'growl?', 'hiss', 'hiss?', 'call', 'unknown',\n",
       "       'growl/hiss', 'call sequence', 'purr', 'purr sequence', 'Growl',\n",
       "       'Hiss', 'Loud rumble/roar', 'Sharp Hiss', 'call?', 'roar',\n",
       "       'roar or call', 'growl ', 'roar?', 'main call', 'call/growl',\n",
       "       'Call sequence(possible mew)', 'mew', 'hiss ', 'call sequence?',\n",
       "       'single call?', 'mew?', 'grow/hiss'], dtype=object)"
      ]
     },
     "execution_count": 6,
     "metadata": {},
     "output_type": "execute_result"
    }
   ],
   "source": [
    "df['Call'].unique()"
   ]
  },
  {
   "cell_type": "code",
   "execution_count": 7,
   "metadata": {},
   "outputs": [
    {
     "data": {
      "text/plain": [
       "array(['growl', nan, 'hiss', 'call', 'growl/hiss', 'purr', 'roar',\n",
       "       'call/growl', 'mew'], dtype=object)"
      ]
     },
     "execution_count": 7,
     "metadata": {},
     "output_type": "execute_result"
    }
   ],
   "source": [
    "clean = {'unknown':np.NaN, 'growl?': 'growl','Growl':'growl', 'growl ':'growl', 'hiss?':'hiss', 'Hiss':'hiss', \n",
    "         'Sharp Hiss':'hiss', 'purr sequence': 'purr', 'Loud rumble/roar':'roar', 'call?':'call', 'main call':'call', \n",
    "         'call sequence':'call', 'roar or call':'roar', 'roar?':'roar', 'purr sequence':'purr', ' roar':'roar', 'hiss ':'hiss', \n",
    "         'mew?':'mew', 'Call sequence(possible mew)':'call', 'call sequence?':'call', 'single call?':'call', \n",
    "         'grow/hiss':'growl/hiss'}\n",
    "df.replace(clean, inplace = True)\n",
    "df['Call'].unique()"
   ]
  },
  {
   "cell_type": "code",
   "execution_count": 8,
   "metadata": {},
   "outputs": [
    {
     "data": {
      "text/plain": [
       "array(['A', 'Adult', 'Adult ', 'Juvenile ', 'juvenile', nan, 'Juvenile'],\n",
       "      dtype=object)"
      ]
     },
     "execution_count": 8,
     "metadata": {},
     "output_type": "execute_result"
    }
   ],
   "source": [
    "df['Age'].unique()"
   ]
  },
  {
   "cell_type": "code",
   "execution_count": 9,
   "metadata": {},
   "outputs": [
    {
     "data": {
      "text/plain": [
       "array(['Adult', 'Juvenile', 'Unknown'], dtype=object)"
      ]
     },
     "execution_count": 9,
     "metadata": {},
     "output_type": "execute_result"
    }
   ],
   "source": [
    "clean2 = {'A':'Adult','Adult ':'Adult', 'Juvenile ':'Juvenile', 'juvenile':'Juvenile'}\n",
    "\n",
    "df.replace(clean2, inplace = True)\n",
    "df['Age'].fillna('Unknown', inplace = True)\n",
    "df['Age'].unique()"
   ]
  },
  {
   "cell_type": "code",
   "execution_count": 10,
   "metadata": {},
   "outputs": [
    {
     "data": {
      "text/plain": [
       "array([nan, 'G (1 M and 2F)', 'P', 'F', 'Pair (Unknown)', 'Female ',\n",
       "       'Male', 'male ', 'G', 'Female', 'M', 'Unknown'], dtype=object)"
      ]
     },
     "execution_count": 10,
     "metadata": {},
     "output_type": "execute_result"
    }
   ],
   "source": [
    "df['Sex'].unique()"
   ]
  },
  {
   "cell_type": "code",
   "execution_count": 11,
   "metadata": {},
   "outputs": [
    {
     "data": {
      "text/plain": [
       "array(['Unknown', 'Group', 'Pair', 'Female', 'Male'], dtype=object)"
      ]
     },
     "execution_count": 11,
     "metadata": {},
     "output_type": "execute_result"
    }
   ],
   "source": [
    "clean3 = {'Female ':'Female','F':'Female', 'M':'Male','male ':'Male', 'P':'Pair', 'Pair (Unknown)':'Pair', 'G':'Group', 'G (1 M and 2F)':'Group'}\n",
    "\n",
    "df.replace(clean3, inplace = True)\n",
    "df['Sex'].fillna('Unknown', inplace = True)\n",
    "df['Sex'].unique()"
   ]
  },
  {
   "cell_type": "code",
   "execution_count": 12,
   "metadata": {},
   "outputs": [
    {
     "data": {
      "text/html": [
       "<div>\n",
       "<style scoped>\n",
       "    .dataframe tbody tr th:only-of-type {\n",
       "        vertical-align: middle;\n",
       "    }\n",
       "\n",
       "    .dataframe tbody tr th {\n",
       "        vertical-align: top;\n",
       "    }\n",
       "\n",
       "    .dataframe thead th {\n",
       "        text-align: right;\n",
       "    }\n",
       "</style>\n",
       "<table border=\"1\" class=\"dataframe\">\n",
       "  <thead>\n",
       "    <tr style=\"text-align: right;\">\n",
       "      <th></th>\n",
       "      <th>Amp_range</th>\n",
       "      <th>Avg_amp</th>\n",
       "      <th>Freq_range</th>\n",
       "      <th>Pulses_per_Sec</th>\n",
       "      <th>Partials</th>\n",
       "      <th>MFCC</th>\n",
       "      <th>Duration</th>\n",
       "      <th>Zero_Crossings</th>\n",
       "      <th>Sex</th>\n",
       "      <th>Age</th>\n",
       "      <th>Species</th>\n",
       "      <th>Call</th>\n",
       "    </tr>\n",
       "  </thead>\n",
       "  <tbody>\n",
       "    <tr>\n",
       "      <th>count</th>\n",
       "      <td>463.000000</td>\n",
       "      <td>463.000000</td>\n",
       "      <td>463.000000</td>\n",
       "      <td>463.000000</td>\n",
       "      <td>463.000000</td>\n",
       "      <td>463.000000</td>\n",
       "      <td>463.000000</td>\n",
       "      <td>463.000000</td>\n",
       "      <td>463</td>\n",
       "      <td>463</td>\n",
       "      <td>463</td>\n",
       "      <td>444</td>\n",
       "    </tr>\n",
       "    <tr>\n",
       "      <th>unique</th>\n",
       "      <td>NaN</td>\n",
       "      <td>NaN</td>\n",
       "      <td>NaN</td>\n",
       "      <td>NaN</td>\n",
       "      <td>NaN</td>\n",
       "      <td>NaN</td>\n",
       "      <td>NaN</td>\n",
       "      <td>NaN</td>\n",
       "      <td>5</td>\n",
       "      <td>3</td>\n",
       "      <td>9</td>\n",
       "      <td>8</td>\n",
       "    </tr>\n",
       "    <tr>\n",
       "      <th>top</th>\n",
       "      <td>NaN</td>\n",
       "      <td>NaN</td>\n",
       "      <td>NaN</td>\n",
       "      <td>NaN</td>\n",
       "      <td>NaN</td>\n",
       "      <td>NaN</td>\n",
       "      <td>NaN</td>\n",
       "      <td>NaN</td>\n",
       "      <td>Male</td>\n",
       "      <td>Adult</td>\n",
       "      <td>Ocelot</td>\n",
       "      <td>growl</td>\n",
       "    </tr>\n",
       "    <tr>\n",
       "      <th>freq</th>\n",
       "      <td>NaN</td>\n",
       "      <td>NaN</td>\n",
       "      <td>NaN</td>\n",
       "      <td>NaN</td>\n",
       "      <td>NaN</td>\n",
       "      <td>NaN</td>\n",
       "      <td>NaN</td>\n",
       "      <td>NaN</td>\n",
       "      <td>201</td>\n",
       "      <td>350</td>\n",
       "      <td>113</td>\n",
       "      <td>233</td>\n",
       "    </tr>\n",
       "    <tr>\n",
       "      <th>mean</th>\n",
       "      <td>0.172086</td>\n",
       "      <td>0.019025</td>\n",
       "      <td>4463.574141</td>\n",
       "      <td>650.632934</td>\n",
       "      <td>7.734341</td>\n",
       "      <td>-16.697629</td>\n",
       "      <td>4.198704</td>\n",
       "      <td>7744.779698</td>\n",
       "      <td>NaN</td>\n",
       "      <td>NaN</td>\n",
       "      <td>NaN</td>\n",
       "      <td>NaN</td>\n",
       "    </tr>\n",
       "    <tr>\n",
       "      <th>std</th>\n",
       "      <td>0.150026</td>\n",
       "      <td>0.017871</td>\n",
       "      <td>3070.408521</td>\n",
       "      <td>668.599927</td>\n",
       "      <td>10.174912</td>\n",
       "      <td>8.567397</td>\n",
       "      <td>3.644874</td>\n",
       "      <td>9319.442262</td>\n",
       "      <td>NaN</td>\n",
       "      <td>NaN</td>\n",
       "      <td>NaN</td>\n",
       "      <td>NaN</td>\n",
       "    </tr>\n",
       "    <tr>\n",
       "      <th>min</th>\n",
       "      <td>0.003207</td>\n",
       "      <td>0.000551</td>\n",
       "      <td>1.000000</td>\n",
       "      <td>0.000000</td>\n",
       "      <td>0.000000</td>\n",
       "      <td>-29.455383</td>\n",
       "      <td>1.000000</td>\n",
       "      <td>281.000000</td>\n",
       "      <td>NaN</td>\n",
       "      <td>NaN</td>\n",
       "      <td>NaN</td>\n",
       "      <td>NaN</td>\n",
       "    </tr>\n",
       "    <tr>\n",
       "      <th>25%</th>\n",
       "      <td>0.056398</td>\n",
       "      <td>0.005321</td>\n",
       "      <td>2199.375000</td>\n",
       "      <td>230.166667</td>\n",
       "      <td>1.000000</td>\n",
       "      <td>-25.048552</td>\n",
       "      <td>2.000000</td>\n",
       "      <td>2502.500000</td>\n",
       "      <td>NaN</td>\n",
       "      <td>NaN</td>\n",
       "      <td>NaN</td>\n",
       "      <td>NaN</td>\n",
       "    </tr>\n",
       "    <tr>\n",
       "      <th>50%</th>\n",
       "      <td>0.141724</td>\n",
       "      <td>0.013124</td>\n",
       "      <td>3777.000000</td>\n",
       "      <td>410.400000</td>\n",
       "      <td>4.000000</td>\n",
       "      <td>-17.067156</td>\n",
       "      <td>3.000000</td>\n",
       "      <td>4550.000000</td>\n",
       "      <td>NaN</td>\n",
       "      <td>NaN</td>\n",
       "      <td>NaN</td>\n",
       "      <td>NaN</td>\n",
       "    </tr>\n",
       "    <tr>\n",
       "      <th>75%</th>\n",
       "      <td>0.239012</td>\n",
       "      <td>0.027823</td>\n",
       "      <td>6807.460317</td>\n",
       "      <td>774.500000</td>\n",
       "      <td>12.000000</td>\n",
       "      <td>-8.300884</td>\n",
       "      <td>5.000000</td>\n",
       "      <td>9680.000000</td>\n",
       "      <td>NaN</td>\n",
       "      <td>NaN</td>\n",
       "      <td>NaN</td>\n",
       "      <td>NaN</td>\n",
       "    </tr>\n",
       "    <tr>\n",
       "      <th>max</th>\n",
       "      <td>0.980719</td>\n",
       "      <td>0.098279</td>\n",
       "      <td>10669.600000</td>\n",
       "      <td>3683.500000</td>\n",
       "      <td>86.000000</td>\n",
       "      <td>-3.730616</td>\n",
       "      <td>28.000000</td>\n",
       "      <td>73062.000000</td>\n",
       "      <td>NaN</td>\n",
       "      <td>NaN</td>\n",
       "      <td>NaN</td>\n",
       "      <td>NaN</td>\n",
       "    </tr>\n",
       "  </tbody>\n",
       "</table>\n",
       "</div>"
      ],
      "text/plain": [
       "         Amp_range     Avg_amp    Freq_range  Pulses_per_Sec    Partials  \\\n",
       "count   463.000000  463.000000    463.000000      463.000000  463.000000   \n",
       "unique         NaN         NaN           NaN             NaN         NaN   \n",
       "top            NaN         NaN           NaN             NaN         NaN   \n",
       "freq           NaN         NaN           NaN             NaN         NaN   \n",
       "mean      0.172086    0.019025   4463.574141      650.632934    7.734341   \n",
       "std       0.150026    0.017871   3070.408521      668.599927   10.174912   \n",
       "min       0.003207    0.000551      1.000000        0.000000    0.000000   \n",
       "25%       0.056398    0.005321   2199.375000      230.166667    1.000000   \n",
       "50%       0.141724    0.013124   3777.000000      410.400000    4.000000   \n",
       "75%       0.239012    0.027823   6807.460317      774.500000   12.000000   \n",
       "max       0.980719    0.098279  10669.600000     3683.500000   86.000000   \n",
       "\n",
       "              MFCC    Duration  Zero_Crossings   Sex    Age Species   Call  \n",
       "count   463.000000  463.000000      463.000000   463    463     463    444  \n",
       "unique         NaN         NaN             NaN     5      3       9      8  \n",
       "top            NaN         NaN             NaN  Male  Adult  Ocelot  growl  \n",
       "freq           NaN         NaN             NaN   201    350     113    233  \n",
       "mean    -16.697629    4.198704     7744.779698   NaN    NaN     NaN    NaN  \n",
       "std       8.567397    3.644874     9319.442262   NaN    NaN     NaN    NaN  \n",
       "min     -29.455383    1.000000      281.000000   NaN    NaN     NaN    NaN  \n",
       "25%     -25.048552    2.000000     2502.500000   NaN    NaN     NaN    NaN  \n",
       "50%     -17.067156    3.000000     4550.000000   NaN    NaN     NaN    NaN  \n",
       "75%      -8.300884    5.000000     9680.000000   NaN    NaN     NaN    NaN  \n",
       "max      -3.730616   28.000000    73062.000000   NaN    NaN     NaN    NaN  "
      ]
     },
     "execution_count": 12,
     "metadata": {},
     "output_type": "execute_result"
    }
   ],
   "source": [
    "df.describe(include='all')"
   ]
  },
  {
   "cell_type": "code",
   "execution_count": 13,
   "metadata": {},
   "outputs": [],
   "source": [
    "#Creating new clean dataframe and saving to CSV\n",
    "df.to_csv('cleaned.csv', index=False)"
   ]
  },
  {
   "cell_type": "code",
   "execution_count": 14,
   "metadata": {},
   "outputs": [
    {
     "name": "stdout",
     "output_type": "stream",
     "text": [
      "<class 'pandas.core.frame.DataFrame'>\n",
      "RangeIndex: 463 entries, 0 to 462\n",
      "Data columns (total 26 columns):\n",
      " #   Column                  Non-Null Count  Dtype  \n",
      "---  ------                  --------------  -----  \n",
      " 0   Amp_range               463 non-null    float64\n",
      " 1   Avg_amp                 463 non-null    float64\n",
      " 2   Freq_range              463 non-null    float64\n",
      " 3   Pulses_per_Sec          463 non-null    float64\n",
      " 4   Partials                463 non-null    int64  \n",
      " 5   MFCC                    463 non-null    float64\n",
      " 6   Duration                463 non-null    int64  \n",
      " 7   Zero_Crossings          463 non-null    int64  \n",
      " 8   Call                    444 non-null    object \n",
      " 9   Sex_Female              463 non-null    uint8  \n",
      " 10  Sex_Group               463 non-null    uint8  \n",
      " 11  Sex_Male                463 non-null    uint8  \n",
      " 12  Sex_Pair                463 non-null    uint8  \n",
      " 13  Sex_Unknown             463 non-null    uint8  \n",
      " 14  Age_Adult               463 non-null    uint8  \n",
      " 15  Age_Juvenile            463 non-null    uint8  \n",
      " 16  Age_Unknown             463 non-null    uint8  \n",
      " 17  Species_A. jubatus      463 non-null    uint8  \n",
      " 18  Species_Bobcat          463 non-null    uint8  \n",
      " 19  Species_C. temminckii   463 non-null    uint8  \n",
      " 20  Species_Caracal Carcal  463 non-null    uint8  \n",
      " 21  Species_Domestic Cat    463 non-null    uint8  \n",
      " 22  Species_L. lynx         463 non-null    uint8  \n",
      " 23  Species_L. serval       463 non-null    uint8  \n",
      " 24  Species_Ocelot          463 non-null    uint8  \n",
      " 25  Species_Wildcat         463 non-null    uint8  \n",
      "dtypes: float64(5), int64(3), object(1), uint8(17)\n",
      "memory usage: 40.4+ KB\n"
     ]
    }
   ],
   "source": [
    "categorical = ['Sex', 'Age', 'Species']\n",
    "\n",
    "for var in categorical:\n",
    "    df = pd.concat([df, pd.get_dummies(df[var], prefix=var)], axis=1)\n",
    "    del df[var]\n",
    "    \n",
    "df.info()"
   ]
  },
  {
   "cell_type": "code",
   "execution_count": 15,
   "metadata": {},
   "outputs": [],
   "source": [
    "X = df[pd.notnull(df['Call'])].drop(['Call'], axis=1)\n",
    "y = df[pd.notnull(df['Call'])]['Call']"
   ]
  },
  {
   "cell_type": "code",
   "execution_count": 16,
   "metadata": {},
   "outputs": [
    {
     "name": "stdout",
     "output_type": "stream",
     "text": [
      "(444, 25)\n",
      "(444,)\n"
     ]
    }
   ],
   "source": [
    "print(X.shape)\n",
    "print(y.shape)"
   ]
  },
  {
   "cell_type": "code",
   "execution_count": 17,
   "metadata": {},
   "outputs": [],
   "source": [
    "X_train, X_test, y_train, y_test = train_test_split(X, y, test_size = 0.30)"
   ]
  },
  {
   "cell_type": "code",
   "execution_count": 41,
   "metadata": {},
   "outputs": [
    {
     "name": "stdout",
     "output_type": "stream",
     "text": [
      "['hiss' 'growl' 'roar' 'call' 'mew' 'call/growl' 'purr' 'growl/hiss']\n",
      "['growl' 'call' 'hiss' 'call/growl' 'roar' 'growl/hiss' 'purr' 'mew']\n",
      "Calls trained for but not tested\n",
      "set()\n",
      "Calls test for but not trained\n",
      "set()\n"
     ]
    }
   ],
   "source": [
    "print(y_train.unique())\n",
    "print(y_test.unique())\n",
    "print('Calls trained for but not tested')\n",
    "print(set(np.unique(y_train))-set(np.unique(y_test)))\n",
    "print('Calls test for but not trained')\n",
    "print(set(np.unique(y_test))-set(np.unique(y_train)))"
   ]
  },
  {
   "cell_type": "code",
   "execution_count": 19,
   "metadata": {},
   "outputs": [],
   "source": [
    "parameters = dict(\n",
    "    objective='multi:softprob',\n",
    "    random_state = 30,\n",
    "    max_depth=9,\n",
    "    learning_rate=0.01,\n",
    "    subsample=0.8,\n",
    "    colsample_bytree=0.4,\n",
    "    tree_method='gpu_hist')\n",
    "\n",
    "clf = XGBClassifier(**parameters, n_estimators=1200)"
   ]
  },
  {
   "cell_type": "code",
   "execution_count": 20,
   "metadata": {},
   "outputs": [
    {
     "name": "stderr",
     "output_type": "stream",
     "text": [
      "C:\\Users\\exant\\anaconda3\\lib\\site-packages\\xgboost\\sklearn.py:1146: UserWarning: The use of label encoder in XGBClassifier is deprecated and will be removed in a future release. To remove this warning, do the following: 1) Pass option use_label_encoder=False when constructing XGBClassifier object; and 2) Encode your labels (y) as integers starting with 0, i.e. 0, 1, 2, ..., [num_class - 1].\n",
      "  warnings.warn(label_encoder_deprecation_msg, UserWarning)\n"
     ]
    },
    {
     "name": "stdout",
     "output_type": "stream",
     "text": [
      "[00:27:32] WARNING: C:/Users/Administrator/workspace/xgboost-win64_release_1.4.0/src/learner.cc:1095: Starting in XGBoost 1.3.0, the default evaluation metric used with the objective 'multi:softprob' was changed from 'merror' to 'mlogloss'. Explicitly set eval_metric if you'd like to restore the old behavior.\n"
     ]
    },
    {
     "data": {
      "text/plain": [
       "XGBClassifier(base_score=0.5, booster='gbtree', colsample_bylevel=1,\n",
       "              colsample_bynode=1, colsample_bytree=0.4, gamma=0, gpu_id=0,\n",
       "              importance_type='gain', interaction_constraints='',\n",
       "              learning_rate=0.01, max_delta_step=0, max_depth=9,\n",
       "              min_child_weight=1, missing=nan, monotone_constraints='()',\n",
       "              n_estimators=1200, n_jobs=12, num_parallel_tree=1,\n",
       "              objective='multi:softprob', random_state=30, reg_alpha=0,\n",
       "              reg_lambda=1, scale_pos_weight=None, subsample=0.8,\n",
       "              tree_method='gpu_hist', validate_parameters=1, verbosity=None)"
      ]
     },
     "execution_count": 20,
     "metadata": {},
     "output_type": "execute_result"
    }
   ],
   "source": [
    "clf.fit(X_train, y_train)"
   ]
  },
  {
   "cell_type": "code",
   "execution_count": 21,
   "metadata": {},
   "outputs": [
    {
     "data": {
      "text/plain": [
       "1.0"
      ]
     },
     "execution_count": 21,
     "metadata": {},
     "output_type": "execute_result"
    }
   ],
   "source": [
    "clf.score(X_train, y_train)"
   ]
  },
  {
   "cell_type": "code",
   "execution_count": 22,
   "metadata": {},
   "outputs": [
    {
     "data": {
      "text/plain": [
       "0.7835820895522388"
      ]
     },
     "execution_count": 22,
     "metadata": {},
     "output_type": "execute_result"
    }
   ],
   "source": [
    "clf.score(X_test,y_test)"
   ]
  },
  {
   "cell_type": "code",
   "execution_count": 23,
   "metadata": {},
   "outputs": [],
   "source": [
    "y_pred = clf.predict(X_test)"
   ]
  },
  {
   "cell_type": "code",
   "execution_count": 24,
   "metadata": {},
   "outputs": [
    {
     "name": "stdout",
     "output_type": "stream",
     "text": [
      "1. Tested Calls\n",
      "['call' 'call/growl' 'growl' 'growl/hiss' 'hiss' 'mew' 'purr' 'roar']\n",
      "2. Predicted Calls\n",
      "['call' 'growl' 'growl/hiss' 'hiss' 'mew' 'purr' 'roar']\n",
      "3. Not tested for but predicted\n",
      "set()\n",
      "4. Tested for but not predicted\n",
      "{'call/growl'}\n"
     ]
    }
   ],
   "source": [
    "print('1. Tested Calls')\n",
    "print(np.unique(y_test))\n",
    "print('2. Predicted Calls')\n",
    "print(np.unique(y_pred))\n",
    "print('3. Not tested for but predicted')\n",
    "print(set(np.unique(y_pred))-set(np.unique(y_test)))\n",
    "print('4. Tested for but not predicted')\n",
    "print(set(np.unique(y_test))-set(np.unique(y_pred)))"
   ]
  },
  {
   "cell_type": "code",
   "execution_count": 25,
   "metadata": {},
   "outputs": [
    {
     "data": {
      "image/png": "[encoded data removed]",
      "text/plain": [
       "<Figure size 432x288 with 2 Axes>"
      ]
     },
     "metadata": {
      "needs_background": "light"
     },
     "output_type": "display_data"
    }
   ],
   "source": [
    "names = ['call', 'call/growl','growl','growl/hiss','hiss','mew','purr', 'roar']\n",
    "cnf = confusion_matrix(y_test, y_pred)\n",
    "fig, ax = plt.subplots()\n",
    "tick_marks = np.arange(len(names))\n",
    "sns.heatmap(cnf, annot = True, xticklabels = names, cmap= \"YlGnBu\", yticklabels = names)\n",
    "ax.xaxis.set_label_position('top')\n",
    "plt.title('XGBoost Confusion Matrix')\n",
    "plt.ylabel('Actual label')\n",
    "plt.xlabel('Predicted label')\n",
    "plt.show()"
   ]
  },
  {
   "cell_type": "code",
   "execution_count": 26,
   "metadata": {},
   "outputs": [],
   "source": [
    "gnb = GaussianNB()"
   ]
  },
  {
   "cell_type": "code",
   "execution_count": 27,
   "metadata": {},
   "outputs": [
    {
     "data": {
      "text/plain": [
       "GaussianNB()"
      ]
     },
     "execution_count": 27,
     "metadata": {},
     "output_type": "execute_result"
    }
   ],
   "source": [
    "gnb.fit(X_train, y_train)"
   ]
  },
  {
   "cell_type": "code",
   "execution_count": 28,
   "metadata": {},
   "outputs": [
    {
     "data": {
      "text/plain": [
       "0.5258064516129032"
      ]
     },
     "execution_count": 28,
     "metadata": {},
     "output_type": "execute_result"
    }
   ],
   "source": [
    "gnb.score(X_train, y_train)"
   ]
  },
  {
   "cell_type": "code",
   "execution_count": 29,
   "metadata": {},
   "outputs": [
    {
     "data": {
      "text/plain": [
       "0.43283582089552236"
      ]
     },
     "execution_count": 29,
     "metadata": {},
     "output_type": "execute_result"
    }
   ],
   "source": [
    "gnb.score(X_test, y_test)"
   ]
  },
  {
   "cell_type": "code",
   "execution_count": 30,
   "metadata": {},
   "outputs": [],
   "source": [
    "y_pred_nb = gnb.predict(X_test)"
   ]
  },
  {
   "cell_type": "code",
   "execution_count": 31,
   "metadata": {},
   "outputs": [
    {
     "name": "stdout",
     "output_type": "stream",
     "text": [
      "1. Tested Calls\n",
      "['call' 'call/growl' 'growl' 'growl/hiss' 'hiss' 'mew' 'purr' 'roar']\n",
      "2. Predicted Calls\n",
      "['call' 'call/growl' 'growl' 'growl/hiss' 'hiss' 'mew' 'purr' 'roar']\n",
      "3. Not tested for but predicted\n",
      "set()\n",
      "4. Tested for but not predicted\n",
      "set()\n"
     ]
    }
   ],
   "source": [
    "print('1. Tested Calls')\n",
    "print(np.unique(y_test))\n",
    "print('2. Predicted Calls')\n",
    "print(np.unique(y_pred_nb))\n",
    "print('3. Not tested for but predicted')\n",
    "print(set(np.unique(y_pred_nb))-set(np.unique(y_test)))\n",
    "print('4. Tested for but not predicted')\n",
    "print(set(np.unique(y_test))-set(np.unique(y_pred_nb)))"
   ]
  },
  {
   "cell_type": "code",
   "execution_count": 32,
   "metadata": {},
   "outputs": [
    {
     "data": {
      "image/png": "[encoded data removed]",
      "text/plain": [
       "<Figure size 432x288 with 2 Axes>"
      ]
     },
     "metadata": {
      "needs_background": "light"
     },
     "output_type": "display_data"
    }
   ],
   "source": [
    "cnf = confusion_matrix(y_test, y_pred_nb)\n",
    "fig, ax = plt.subplots()\n",
    "tick_marks = np.arange(len(names))\n",
    "sns.heatmap(cnf, annot = True, xticklabels = names, cmap= \"YlGnBu\", yticklabels = names)\n",
    "ax.xaxis.set_label_position('top')\n",
    "plt.title('Naive Bayes Matrix')\n",
    "plt.ylabel('Actual label')\n",
    "plt.xlabel('Predicted label')\n",
    "plt.show()"
   ]
  },
  {
   "cell_type": "code",
   "execution_count": 33,
   "metadata": {},
   "outputs": [],
   "source": [
    "clf_svc = SVC()"
   ]
  },
  {
   "cell_type": "code",
   "execution_count": 34,
   "metadata": {},
   "outputs": [
    {
     "data": {
      "text/plain": [
       "SVC()"
      ]
     },
     "execution_count": 34,
     "metadata": {},
     "output_type": "execute_result"
    }
   ],
   "source": [
    "clf_svc.fit(X_train, y_train)"
   ]
  },
  {
   "cell_type": "code",
   "execution_count": 35,
   "metadata": {},
   "outputs": [
    {
     "data": {
      "text/plain": [
       "0.5451612903225806"
      ]
     },
     "execution_count": 35,
     "metadata": {},
     "output_type": "execute_result"
    }
   ],
   "source": [
    "clf_svc.score(X_train, y_train)"
   ]
  },
  {
   "cell_type": "code",
   "execution_count": 36,
   "metadata": {},
   "outputs": [
    {
     "data": {
      "text/plain": [
       "0.5149253731343284"
      ]
     },
     "execution_count": 36,
     "metadata": {},
     "output_type": "execute_result"
    }
   ],
   "source": [
    "clf_svc.score(X_test, y_test)"
   ]
  },
  {
   "cell_type": "code",
   "execution_count": 37,
   "metadata": {},
   "outputs": [
    {
     "data": {
      "text/plain": [
       "array(['call', 'growl'], dtype=object)"
      ]
     },
     "execution_count": 37,
     "metadata": {},
     "output_type": "execute_result"
    }
   ],
   "source": [
    "y_pred_svc=clf_svc.predict(X_test)\n",
    "np.unique(y_pred_svc)"
   ]
  },
  {
   "cell_type": "code",
   "execution_count": 38,
   "metadata": {},
   "outputs": [
    {
     "name": "stdout",
     "output_type": "stream",
     "text": [
      "1. Tested Calls\n",
      "['call' 'call/growl' 'growl' 'growl/hiss' 'hiss' 'mew' 'purr' 'roar']\n",
      "2. Predicted Calls\n",
      "['call' 'growl']\n",
      "3. Not tested for but predicted\n",
      "set()\n",
      "4. Tested for but not predicted\n",
      "{'call/growl', 'mew', 'purr', 'roar', 'growl/hiss', 'hiss'}\n"
     ]
    }
   ],
   "source": [
    "print('1. Tested Calls')\n",
    "print(np.unique(y_test))\n",
    "print('2. Predicted Calls')\n",
    "print(np.unique(y_pred_svc))\n",
    "print('3. Not tested for but predicted')\n",
    "print(set(np.unique(y_pred_svc))-set(np.unique(y_test)))\n",
    "print('4. Tested for but not predicted')\n",
    "print(set(np.unique(y_test))-set(np.unique(y_pred_svc)))"
   ]
  },
  {
   "cell_type": "code",
   "execution_count": 39,
   "metadata": {},
   "outputs": [
    {
     "data": {
      "image/png": "[encoded data removed]",
      "text/plain": [
       "<Figure size 432x288 with 2 Axes>"
      ]
     },
     "metadata": {
      "needs_background": "light"
     },
     "output_type": "display_data"
    }
   ],
   "source": [
    "cnf = confusion_matrix(y_test, y_pred_svc)\n",
    "fig, ax = plt.subplots()\n",
    "tick_marks = np.arange(len(names))\n",
    "sns.heatmap(cnf, annot = True, xticklabels = names, cmap= \"YlGnBu\", yticklabels = names)\n",
    "ax.xaxis.set_label_position('top')\n",
    "plt.title('SVM Confusion Matrix')\n",
    "plt.ylabel('Actual label')\n",
    "plt.xlabel('Predicted label')\n",
    "plt.show()\n",
    "\n"
   ]
  },
  {
   "cell_type": "code",
   "execution_count": 40,
   "metadata": {},
   "outputs": [
    {
     "data": {
      "text/plain": [
       "growl         233\n",
       "call          106\n",
       "hiss           63\n",
       "roar           12\n",
       "purr           11\n",
       "mew             9\n",
       "growl/hiss      6\n",
       "call/growl      4\n",
       "Name: Call, dtype: int64"
      ]
     },
     "execution_count": 40,
     "metadata": {},
     "output_type": "execute_result"
    }
   ],
   "source": [
    "#The data is unbalanced, this could be fixed by updating the class weights \n",
    "#Or getting more varied data\n",
    "df['Call'].value_counts()"
   ]
  }
 ],
 "metadata": {
  "kernelspec": {
   "display_name": "Python 3",
   "language": "python",
   "name": "python3"
  },
  "language_info": {
   "codemirror_mode": {
    "name": "ipython",
    "version": 3
   },
   "file_extension": ".py",
   "mimetype": "text/x-python",
   "name": "python",
   "nbconvert_exporter": "python",
   "pygments_lexer": "ipython3",
   "version": "3.8.8"
  }
 },
 "nbformat": 4,
 "nbformat_minor": 4
}
