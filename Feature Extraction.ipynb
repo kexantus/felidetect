{
 "cells": [
  {
   "cell_type": "code",
   "execution_count": 4,
   "metadata": {},
   "outputs": [],
   "source": [
    "import matplotlib.pyplot as plt\n",
    "from scipy.signal import find_peaks\n",
    "import numpy as np\n",
    "from scipy.io import wavfile\n",
    "import IPython.display as ipd #allows for playing of audio\n",
    "import librosa\n",
    "import librosa.display\n",
    "#allows for spectrographs and other audio manipulation\n",
    "import pandas as pd\n",
    "from pydub import AudioSegment\n",
    "#allows for audio file slicing\n",
    "import math\n",
    "from scipy.fft import rfft, rfftfreq"
   ]
  },
  {
   "cell_type": "code",
   "execution_count": 2,
   "metadata": {},
   "outputs": [],
   "source": [
    "#Acinonyx files\n",
    "aj2 = pd.read_csv(r\".\\Capstone Files\\A. jubatus\\AJ2.csv\")\n",
    "aj3 = pd.read_csv(r\".\\Capstone Files\\A. jubatus\\AJ3.csv\")\n",
    "aj5 = pd.read_csv(r\".\\Capstone Files\\A. jubatus\\AJ5.csv\")\n",
    "aj13 = pd.read_csv(r\".\\Capstone Files\\A. jubatus\\AJ13.csv\")\n",
    "aj2_sound, aj2_rate = librosa.load(r\".\\Capstone Files\\A. jubatus\\Acinonyx_jubatus_S0612_02.wav\")\n",
    "aj3_sound, aj3_rate = librosa.load(r\".\\Capstone Files\\A. jubatus\\Acinonyx_jubatus_S1121_03.wav\")\n",
    "aj5_sound, aj5_rate = librosa.load(r\".\\Capstone Files\\A. jubatus\\Acinonyx_jubatus_S1121_05.wav\")\n",
    "aj13_sound, aj13_rate = librosa.load(r\".\\Capstone Files\\A. jubatus\\Acinonyx_jubatus_S1366_13.wav\")\n",
    "#Tuples\n",
    "AJ2 = (aj2, aj2_sound)\n",
    "AJ3 = (aj3, aj3_sound)\n",
    "AJ5 = (aj5, aj5_sound)\n",
    "AJ13 = (aj13, aj13_sound)"
   ]
  },
  {
   "cell_type": "code",
   "execution_count": 11,
   "metadata": {},
   "outputs": [
    {
     "name": "stdout",
     "output_type": "stream",
     "text": [
      "3718595\n"
     ]
    }
   ],
   "source": [
    "#ipd.Audio('Capstone Files\\A. jubatus\\Acinonyx_jubatus_S0612_02.wav')\n",
    "print(len(aj2_sound))"
   ]
  },
  {
   "cell_type": "code",
   "execution_count": 4,
   "metadata": {},
   "outputs": [],
   "source": [
    "#Caracal files\n",
    "C1 = pd.read_csv(r\".\\Capstone Files\\Caracal\\C1.csv\")\n",
    "C1_sound , C1_rate = librosa.load(r\".\\Capstone Files\\Caracal\\Caracal_1_Male_Growl+Hiss.wav\")\n",
    "C2 = pd.read_csv(r\".\\Capstone Files\\Caracal\\C2.csv\")\n",
    "C2_sound , C2_rate = librosa.load(r\".\\Capstone Files\\Caracal\\Caracal_2_Male_Growl+Hiss.wav\")\n",
    "C3 = pd.read_csv(r\".\\Capstone Files\\Caracal\\C3.csv\")\n",
    "C3_sound , C3_rate = librosa.load(r\".\\Capstone Files\\Caracal\\Caracal_3___Growl+Hiss.wav\")\n",
    "C4 = pd.read_csv(r\".\\Capstone Files\\Caracal\\C4.csv\")\n",
    "C4_sound , C4_rate = librosa.load(r\".\\Capstone Files\\Caracal\\Caracal_4___Growl.wav\")\n",
    "C5 = pd.read_csv(r\".\\Capstone Files\\Caracal\\C5.csv\")\n",
    "C5_sound , C5_rate = librosa.load(r\".\\Capstone Files\\Caracal\\Caracal_5___Hiss+Growl.wav\")\n",
    "C6 = pd.read_csv(r\".\\Capstone Files\\Caracal\\C6.csv\")\n",
    "C6_sound , C6_rate = librosa.load(r\".\\Capstone Files\\Caracal\\Caracal_6___Hiss+Growl.wav\")\n",
    "#Tuples\n",
    "C1T = (C1, C1_sound)\n",
    "C2T = (C2, C2_sound)\n",
    "C3T = (C3, C3_sound)\n",
    "C4T = (C4, C4_sound)\n",
    "C5T = (C5, C5_sound)\n",
    "C6T = (C6, C6_sound)"
   ]
  },
  {
   "cell_type": "code",
   "execution_count": 5,
   "metadata": {},
   "outputs": [],
   "source": [
    "#Domestica files\n",
    "D1 = pd.read_csv(r\".\\Capstone Files\\Domestica\\D1.csv\")\n",
    "D1_sound , D1_rate = librosa.load(r\".\\Capstone Files\\Domestica\\Felis_silvestris_f_domestica_S0050_01_pair_adult_hiss,growl.wav\")\n",
    "D2 = pd.read_csv(r\".\\Capstone Files\\Domestica\\D2.csv\")\n",
    "D2_sound , D2_rate = librosa.load(r\".\\Capstone Files\\Domestica\\Felis_silvestris_f_domestica_S0013_01.female_adult_hiss,call,growlwav.wav\")\n",
    "D3 = pd.read_csv(r\".\\Capstone Files\\Domestica\\D3.csv\")\n",
    "D3_sound , D3_rate = librosa.load(r\".\\Capstone Files\\Domestica\\Felis_silvestris_f_domestica_S0002_01_short_female_adult_growl, hiss.wav\")\n",
    "D4 = pd.read_csv(r\".\\Capstone Files\\Domestica\\D4.csv\")\n",
    "D4_sound, D4_rate = librosa.load(r\".\\Capstone Files\\Domestica\\Felis_silvestris_f_domestica_DIG0089_01_male_juvenile_call,purr.wav\")\n",
    "D5 = pd.read_csv(r\".\\Capstone Files\\Domestica\\D5.csv\")\n",
    "D5_sound, D5_rate = librosa.load(r\".\\Capstone Files\\Domestica\\Felis_silvestris_f_domestica_DIG0015_14_male_juvenile_purrpurr.wav\")\n",
    "#Tuples\n",
    "D1T = (D1, D1_sound)\n",
    "D2T = (D2, D2_sound)\n",
    "D3T = (D3, D3_sound)\n",
    "D4T = (D4, D4_sound)\n",
    "D5T = (D5, D5_sound)"
   ]
  },
  {
   "cell_type": "code",
   "execution_count": 6,
   "metadata": {},
   "outputs": [],
   "source": [
    "#L lynx audio files\n",
    "L1 = pd.read_csv(r\".\\Capstone Files\\L. Lynx\\L1.csv\")\n",
    "L1_sound, L1_rate = librosa.load(r\".\\Capstone Files\\L. Lynx\\Lynx_lynx_1.wav\")\n",
    "L2 = pd.read_csv(r\".\\Capstone Files\\L. Lynx\\L2.csv\")\n",
    "L2_sound, L2_rate = librosa.load(r\".\\Capstone Files\\L. Lynx\\Lynx_lynx_2.wav\")\n",
    "L3 = pd.read_csv(r\".\\Capstone Files\\L. Lynx\\L3.csv\")\n",
    "L3_sound, L3_rate = librosa.load(r\".\\Capstone Files\\L. Lynx\\Lynx_lynx_3.wav\")\n",
    "L4 = pd.read_csv(r\".\\Capstone Files\\L. Lynx\\L4.csv\")\n",
    "L4_sound, L4_rate = librosa.load(r\".\\Capstone Files\\L. Lynx\\Lynx_lynx_4.wav\")\n",
    "L5 = pd.read_csv(r\".\\Capstone Files\\L. Lynx\\L5.csv\")\n",
    "L5_sound, L5_rate = librosa.load(r\".\\Capstone Files\\L. Lynx\\Lynx_lynx_5.wav\")\n",
    "L6 = pd.read_csv(r\".\\Capstone Files\\L. Lynx\\L6.csv\")\n",
    "L6_sound, L6_rate = librosa.load(r\".\\Capstone Files\\L. Lynx\\Lynx_lynx_6.wav\")\n",
    "L7 = pd.read_csv(r\".\\Capstone Files\\L. Lynx\\L7.csv\")\n",
    "L7_sound, L7_rate = librosa.load(r\".\\Capstone Files\\L. Lynx\\Lynx_lynx_7.wav\")\n",
    "L8 = pd.read_csv(r\".\\Capstone Files\\L. Lynx\\L8.csv\")\n",
    "L8_sound, L8_rate = librosa.load(r\".\\Capstone Files\\L. Lynx\\Lynx_lynx_8.wav\")\n",
    "L9 = pd.read_csv(r\".\\Capstone Files\\L. Lynx\\L9.csv\")\n",
    "L9_sound, L9_rate = librosa.load(r\".\\Capstone Files\\L. Lynx\\Lynx_lynx_9.wav\")\n",
    "L10 = pd.read_csv(r\".\\Capstone Files\\L. Lynx\\L10.csv\")\n",
    "L10_sound, L10_rate = librosa.load(r\".\\Capstone Files\\L. Lynx\\Lynx_lynx_10.wav\")\n",
    "L11 = pd.read_csv(r\".\\Capstone Files\\L. Lynx\\L11.csv\")\n",
    "L11_sound, L11_rate = librosa.load(r\".\\Capstone Files\\L. Lynx\\Lynx_lynx_11.wav\")\n",
    "L12 = pd.read_csv(r\".\\Capstone Files\\L. Lynx\\L12.csv\")\n",
    "L12_sound, L12_rate = librosa.load(r\".\\Capstone Files\\L. Lynx\\Lynx_lynx_12.wav\")\n",
    "# Tuples\n",
    "L1T = (L1, L1_sound)\n",
    "L2T = (L2, L2_sound)\n",
    "L3T = (L3, L3_sound)\n",
    "L4T = (L4, L4_sound)\n",
    "L5T = (L5, L5_sound)\n",
    "L6T = (L6, L6_sound)\n",
    "L7T = (L7, L7_sound)\n",
    "L8T = (L8, L8_sound)\n",
    "L9T = (L9, L9_sound)\n",
    "L10T = (L10, L10_sound)\n",
    "L11T = (L11, L11_sound)\n",
    "L12T = (L12, L12_sound)"
   ]
  },
  {
   "cell_type": "code",
   "execution_count": 7,
   "metadata": {},
   "outputs": [],
   "source": [
    "#Lynx Rufus\n",
    "LR1 = pd.read_csv(r\".\\Capstone Files\\L. Rufus\\LR1.csv\")\n",
    "LR1_sound, LR1_rate = librosa.load(r\"C:\\Users\\exant\\My Jupyter Files\\Capstone\\Capstone Files\\L. Rufus\\LR1.wav\")\n",
    "LR2 = pd.read_csv(r\".\\Capstone Files\\L. Rufus\\LR2.csv\")\n",
    "LR2_sound, LR2_rate = librosa.load(r\".\\Capstone Files\\L. Rufus\\LR2.wav\")\n",
    "#Tuples\n",
    "LR1T = (LR1, LR1_sound)\n",
    "LR2T = (LR2, LR2_sound)"
   ]
  },
  {
   "cell_type": "code",
   "execution_count": 8,
   "metadata": {},
   "outputs": [],
   "source": [
    "#Leopardus Pardalis\n",
    "LP1 = pd.read_csv(r\".\\Capstone Files\\Leopardus\\LP1.csv\")\n",
    "LP1_sound, LP1_rate = librosa.load(r\".\\Capstone Files\\Leopardus\\LP1.wav\")\n",
    "LP2 = pd.read_csv(r\".\\Capstone Files\\Leopardus\\LP2.csv\")\n",
    "LP2_sound, LP2_rate = librosa.load(r\".\\Capstone Files\\Leopardus\\LP2.wav\")\n",
    "LP3 = pd.read_csv(r\".\\Capstone Files\\Leopardus\\LP3.csv\")\n",
    "LP3_sound, LP3_rate = librosa.load(r\".\\Capstone Files\\Leopardus\\LP3.wav\")\n",
    "LP4 = pd.read_csv(r\".\\Capstone Files\\Leopardus\\LP4.csv\")\n",
    "LP4_sound, LP4_rate = librosa.load(r\".\\Capstone Files\\Leopardus\\LP4.wav\")\n",
    "#Tuples\n",
    "LP1T = (LP1, LP1_sound)\n",
    "LP2T = (LP2, LP2_sound)\n",
    "LP3T = (LP3, LP3_sound)\n",
    "LP4T = (LP4, LP4_sound)"
   ]
  },
  {
   "cell_type": "markdown",
   "metadata": {},
   "source": [
    "CT1 = pd.read_csv(r\".\\Capstone Files\\Catopuma temminckii\\Catopuma temminckii sounds.csv\")\n",
    "CT1_sound, CT1_rate = librosa.load(r\".\\Capstone Files\\Catopuma temminckii\\Catopuma_temminckii_V1736_02.wav\")\n",
    "CT1T = (CT1, CT1_sound)"
   ]
  },
  {
   "cell_type": "code",
   "execution_count": 9,
   "metadata": {},
   "outputs": [],
   "source": [
    "audio_list = [AJ2, AJ3, AJ5, AJ13, D1T, D2T, D3T, D4T, D5T, C1T, C2T, C3T, C4T, C5T, C6T, L1T, L2T, L3T, L4T, L5T, L6T,\n",
    "            L7T, L8T, L9T, L10T, L11T, L12T, LR1T, LR2T, LP1T, LP2T, LP3T, LP4T]"
   ]
  },
  {
   "cell_type": "code",
   "execution_count": 10,
   "metadata": {},
   "outputs": [],
   "source": [
    "def frequency_range(audiofile):\n",
    "    N= len(audiofile)\n",
    "    y = np.abs(rfft(audiofile))\n",
    "    x = rfftfreq(N, 1/ 22050)\n",
    "    tup = (x, y)\n",
    "    lst = []\n",
    "    for x in range(len(tup[0])):\n",
    "        if tup[1][x] > 2.5:\n",
    "            lst.append(tup[0][x])\n",
    "    freq_range = max(lst) - min(lst)\n",
    "    return freq_range"
   ]
  },
  {
   "cell_type": "code",
   "execution_count": 11,
   "metadata": {},
   "outputs": [],
   "source": [
    "def top_freq(file):\n",
    "    f, t, mag = librosa.reassigned_spectrogram(file)\n",
    "    mag_db = librosa.power_to_db(mag)\n",
    "    freqs = [0]*len(f[0])\n",
    "    for y in range(len(f[0])):\n",
    "        for x in range(len(f)):\n",
    "            if mag_db[x][y] > -10:\n",
    "                freqs[y] = f[x][y]\n",
    "    return freqs"
   ]
  },
  {
   "cell_type": "code",
   "execution_count": 12,
   "metadata": {},
   "outputs": [],
   "source": [
    "def pulses(file):\n",
    "    #Find max\n",
    "    peaks = find_peaks(file, height = 0, prominence = 0.01)\n",
    "    max_height = peaks[1]['peak_heights'] #array of the heights of  peaks\n",
    "    pulse = len(peaks[0])/(len(file)/22050)\n",
    "    return pulse"
   ]
  },
  {
   "cell_type": "code",
   "execution_count": 13,
   "metadata": {},
   "outputs": [],
   "source": [
    "def partials(file):\n",
    "    count = 0\n",
    "    mags, freqs, line = plt.magnitude_spectrum(file, 22050)\n",
    "    for i in range(len(mags)):\n",
    "        if i > 100 and i <= (len(mags)-102):\n",
    "            previous = [mags[i-x] for x in range(1,100)]\n",
    "            post = [mags[i+x] for x in range(1,100)]\n",
    "            if mags[i] > max(previous) and mags[i] > max(post) and mags[i] > 0.0005:\n",
    "                count += 1\n",
    "    return count"
   ]
  },
  {
   "cell_type": "code",
   "execution_count": 14,
   "metadata": {},
   "outputs": [],
   "source": [
    "#Pass in a list of tuples, containing two items, the first being a dataframe of the times and the second being the audio file\n",
    "def audio_feat_extractor(lst_tup):\n",
    "    data = []\n",
    "    for tup in lst_tup:\n",
    "        csv = tup[0]\n",
    "        audio = tup[1]\n",
    "        for x, y in csv.iterrows():\n",
    "            start = math.floor(y[3])\n",
    "            end = math.ceil(y[4])\n",
    "            temp = audio[start * 22050 : end *22050]\n",
    "            zeros = sum(librosa.zero_crossings(temp))\n",
    "            duration = end - start\n",
    "            positive = np.absolute(temp)\n",
    "            amplitude_range = max(positive)-min(positive)\n",
    "            average_amp = np.mean(positive)\n",
    "            range_freq = frequency_range(temp)\n",
    "            pulse = pulses(temp)\n",
    "            partial = partials(temp)\n",
    "            mfcc = np.mean(librosa.feature.mfcc(y=temp, sr=22050, n_mfcc=13))\n",
    "            S, phase = librosa.magphase(librosa.stft(temp))\n",
    "            rolloff = np.mean(librosa.feature.spectral_rolloff(S=S, sr=22050))\n",
    "            \n",
    "            data.append([zeros, duration, amplitude_range, average_amp, range_freq, pulse, partial, mfcc, rolloff, y[1], y[2],\n",
    "                         y[0], y[5]])\n",
    "    \n",
    "    output = pd.DataFrame(data, columns = ['Zero_Crossings', 'Duration', 'Amp_range','Avg_amp', 'Freq_range','Pulses_per_Sec',\n",
    "                                           'Partials', 'MFCC', 'Spectral Rolloff', 'Sex', 'Age', 'Species', 'Call'])\n",
    "    \n",
    "    return output"
   ]
  },
  {
   "cell_type": "code",
   "execution_count": 15,
   "metadata": {},
   "outputs": [
    {
     "data": {
      "image/png": "[encoded data removed]",
      "text/plain": [
       "<Figure size 432x288 with 1 Axes>"
      ]
     },
     "metadata": {
      "needs_background": "light"
     },
     "output_type": "display_data"
    }
   ],
   "source": [
    "features_dataframe = audio_feat_extractor(audio_list)"
   ]
  },
  {
   "cell_type": "code",
   "execution_count": 16,
   "metadata": {},
   "outputs": [],
   "source": [
    "features_dataframe.to_csv('features.csv', index=False)"
   ]
  }
 ],
 "metadata": {
  "kernelspec": {
   "display_name": "Python 3",
   "language": "python",
   "name": "python3"
  },
  "language_info": {
   "codemirror_mode": {
    "name": "ipython",
    "version": 3
   },
   "file_extension": ".py",
   "mimetype": "text/x-python",
   "name": "python",
   "nbconvert_exporter": "python",
   "pygments_lexer": "ipython3",
   "version": "3.8.8"
  }
 },
 "nbformat": 4,
 "nbformat_minor": 4
}
